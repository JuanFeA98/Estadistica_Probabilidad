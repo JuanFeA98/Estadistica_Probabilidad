{
 "cells": [
  {
   "cell_type": "markdown",
   "id": "9560c58b-9591-4968-87ed-9ec6cda4e051",
   "metadata": {},
   "source": [
    "<h1 style='text-align:center; font-weight:1000'>\n",
    "    Estadística Inferencial\n",
    "</h1>"
   ]
  },
  {
   "cell_type": "markdown",
   "id": "dacf92c3-85c4-4be7-b6cd-9335ee9edd33",
   "metadata": {},
   "source": [
    "## **Librerias**"
   ]
  },
  {
   "cell_type": "code",
   "execution_count": 1,
   "id": "65aecd13-1af6-4fd0-855d-fc1591b630a8",
   "metadata": {},
   "outputs": [],
   "source": [
    "import pandas as pd\n",
    "import numpy as np\n",
    "import matplotlib.pyplot as plt\n",
    "import seaborn as sns"
   ]
  },
  {
   "cell_type": "code",
   "execution_count": 2,
   "id": "1810a798-f601-4372-bf4b-b2bb842fa621",
   "metadata": {},
   "outputs": [],
   "source": [
    "pd.options.display.max_columns = False"
   ]
  },
  {
   "cell_type": "code",
   "execution_count": 3,
   "id": "c6359537-3947-47bd-b691-886b56044cae",
   "metadata": {},
   "outputs": [],
   "source": [
    "from scipy import stats"
   ]
  },
  {
   "cell_type": "markdown",
   "id": "008ad0c1-fad0-4ca5-8bfc-cb771e3ea177",
   "metadata": {},
   "source": [
    "## **1. Funciones de muestreo**"
   ]
  },
  {
   "cell_type": "code",
   "execution_count": 4,
   "id": "405aefbd-0fec-44d9-871a-8d8a3ebb4d65",
   "metadata": {},
   "outputs": [],
   "source": [
    "df = pd.read_csv('Data/econdata.csv')"
   ]
  },
  {
   "cell_type": "code",
   "execution_count": 5,
   "id": "e850e393-66ed-4e69-9946-33bfc693eb58",
   "metadata": {},
   "outputs": [
    {
     "data": {
      "text/html": [
       "<div>\n",
       "<style scoped>\n",
       "    .dataframe tbody tr th:only-of-type {\n",
       "        vertical-align: middle;\n",
       "    }\n",
       "\n",
       "    .dataframe tbody tr th {\n",
       "        vertical-align: top;\n",
       "    }\n",
       "\n",
       "    .dataframe thead th {\n",
       "        text-align: right;\n",
       "    }\n",
       "</style>\n",
       "<table border=\"1\" class=\"dataframe\">\n",
       "  <thead>\n",
       "    <tr style=\"text-align: right;\">\n",
       "      <th></th>\n",
       "      <th>id</th>\n",
       "      <th>geo_point_2d</th>\n",
       "      <th>geo_shape</th>\n",
       "      <th>clave_cat</th>\n",
       "      <th>delegacion</th>\n",
       "      <th>perimetro</th>\n",
       "      <th>tipo</th>\n",
       "      <th>nom_id</th>\n",
       "    </tr>\n",
       "  </thead>\n",
       "  <tbody>\n",
       "    <tr>\n",
       "      <th>0</th>\n",
       "      <td>0</td>\n",
       "      <td>19.424781053,-99.1327537959</td>\n",
       "      <td>{\"type\": \"Polygon\", \"coordinates\": [[[-99.1332...</td>\n",
       "      <td>307_130_11</td>\n",
       "      <td>Cuauhtémoc</td>\n",
       "      <td>B</td>\n",
       "      <td>Mercado</td>\n",
       "      <td>Pino Suárez</td>\n",
       "    </tr>\n",
       "  </tbody>\n",
       "</table>\n",
       "</div>"
      ],
      "text/plain": [
       "   id                 geo_point_2d                                          geo_shape  ... perimetro     tipo       nom_id\n",
       "0   0  19.424781053,-99.1327537959  {\"type\": \"Polygon\", \"coordinates\": [[[-99.1332...  ...         B  Mercado  Pino Suárez\n",
       "\n",
       "[1 rows x 8 columns]"
      ]
     },
     "execution_count": 5,
     "metadata": {},
     "output_type": "execute_result"
    }
   ],
   "source": [
    "df.head(1)"
   ]
  },
  {
   "cell_type": "markdown",
   "id": "78927833-b5a1-43ee-8fd1-06242cce6ab7",
   "metadata": {},
   "source": [
    "### **1.1 Muestreo aleatorio simple**"
   ]
  },
  {
   "cell_type": "code",
   "execution_count": 6,
   "id": "ec6cc613-3f1f-45ab-ab1a-a6774e2b41f8",
   "metadata": {},
   "outputs": [
    {
     "data": {
      "text/html": [
       "<div>\n",
       "<style scoped>\n",
       "    .dataframe tbody tr th:only-of-type {\n",
       "        vertical-align: middle;\n",
       "    }\n",
       "\n",
       "    .dataframe tbody tr th {\n",
       "        vertical-align: top;\n",
       "    }\n",
       "\n",
       "    .dataframe thead th {\n",
       "        text-align: right;\n",
       "    }\n",
       "</style>\n",
       "<table border=\"1\" class=\"dataframe\">\n",
       "  <thead>\n",
       "    <tr style=\"text-align: right;\">\n",
       "      <th></th>\n",
       "      <th>id</th>\n",
       "      <th>geo_point_2d</th>\n",
       "      <th>geo_shape</th>\n",
       "      <th>clave_cat</th>\n",
       "      <th>delegacion</th>\n",
       "      <th>perimetro</th>\n",
       "      <th>tipo</th>\n",
       "      <th>nom_id</th>\n",
       "    </tr>\n",
       "  </thead>\n",
       "  <tbody>\n",
       "    <tr>\n",
       "      <th>163</th>\n",
       "      <td>163</td>\n",
       "      <td>19.4265454033,-99.1224859032</td>\n",
       "      <td>{\"type\": \"Polygon\", \"coordinates\": [[[-99.1231...</td>\n",
       "      <td>323_063_05</td>\n",
       "      <td>Venustiano Carranza</td>\n",
       "      <td>B</td>\n",
       "      <td>Mercado</td>\n",
       "      <td>NaN</td>\n",
       "    </tr>\n",
       "    <tr>\n",
       "      <th>157</th>\n",
       "      <td>157</td>\n",
       "      <td>19.4272935771,-99.1227492994</td>\n",
       "      <td>{\"type\": \"Polygon\", \"coordinates\": [[[-99.1230...</td>\n",
       "      <td>323_063_08</td>\n",
       "      <td>Venustiano Carranza</td>\n",
       "      <td>B</td>\n",
       "      <td>Mercado</td>\n",
       "      <td>Merced Comidas</td>\n",
       "    </tr>\n",
       "    <tr>\n",
       "      <th>143</th>\n",
       "      <td>143</td>\n",
       "      <td>19.4327710138,-99.142002608</td>\n",
       "      <td>{\"type\": \"MultiPoint\", \"coordinates\": [[-99.14...</td>\n",
       "      <td>002_027_10</td>\n",
       "      <td>Cuautémoc</td>\n",
       "      <td>B</td>\n",
       "      <td>Hotel</td>\n",
       "      <td>Toledo</td>\n",
       "    </tr>\n",
       "    <tr>\n",
       "      <th>215</th>\n",
       "      <td>215</td>\n",
       "      <td>19.4383767258,-99.1331865203</td>\n",
       "      <td>{\"type\": \"MultiPoint\", \"coordinates\": [[-99.13...</td>\n",
       "      <td>004_082_16</td>\n",
       "      <td>Cuautémoc</td>\n",
       "      <td>A</td>\n",
       "      <td>Hotel</td>\n",
       "      <td>La Fontelina , S.A. DE C.V.</td>\n",
       "    </tr>\n",
       "    <tr>\n",
       "      <th>89</th>\n",
       "      <td>89</td>\n",
       "      <td>19.4373498816,-99.1421604061</td>\n",
       "      <td>{\"type\": \"MultiPoint\", \"coordinates\": [[-99.14...</td>\n",
       "      <td>003_096_04</td>\n",
       "      <td>Cuautémoc</td>\n",
       "      <td>A</td>\n",
       "      <td>Hotel</td>\n",
       "      <td>Hidalgo</td>\n",
       "    </tr>\n",
       "    <tr>\n",
       "      <th>216</th>\n",
       "      <td>216</td>\n",
       "      <td>19.4247697438,-99.1249707246</td>\n",
       "      <td>{\"type\": \"Polygon\", \"coordinates\": [[[-99.1250...</td>\n",
       "      <td>323_118_37</td>\n",
       "      <td>Venustiano Carranza</td>\n",
       "      <td>B</td>\n",
       "      <td>Mercado</td>\n",
       "      <td>Lamininas de La Merced</td>\n",
       "    </tr>\n",
       "    <tr>\n",
       "      <th>173</th>\n",
       "      <td>173</td>\n",
       "      <td>19.4314834886,-99.1259717478</td>\n",
       "      <td>{\"type\": \"MultiPoint\", \"coordinates\": [[-99.12...</td>\n",
       "      <td>006_026_38</td>\n",
       "      <td>Cuautémoc</td>\n",
       "      <td>A</td>\n",
       "      <td>Hotel</td>\n",
       "      <td>Soledad</td>\n",
       "    </tr>\n",
       "    <tr>\n",
       "      <th>115</th>\n",
       "      <td>115</td>\n",
       "      <td>19.4336966991,-99.1237253904</td>\n",
       "      <td>{\"type\": \"MultiPoint\", \"coordinates\": [[-99.12...</td>\n",
       "      <td>323_010_09</td>\n",
       "      <td>Venustiano Carranza</td>\n",
       "      <td>B</td>\n",
       "      <td>Hotel</td>\n",
       "      <td>Antas</td>\n",
       "    </tr>\n",
       "  </tbody>\n",
       "</table>\n",
       "</div>"
      ],
      "text/plain": [
       "      id                  geo_point_2d  ...     tipo                       nom_id\n",
       "163  163  19.4265454033,-99.1224859032  ...  Mercado                          NaN\n",
       "157  157  19.4272935771,-99.1227492994  ...  Mercado               Merced Comidas\n",
       "143  143   19.4327710138,-99.142002608  ...    Hotel                       Toledo\n",
       "215  215  19.4383767258,-99.1331865203  ...    Hotel  La Fontelina , S.A. DE C.V.\n",
       "89    89  19.4373498816,-99.1421604061  ...    Hotel                      Hidalgo\n",
       "216  216  19.4247697438,-99.1249707246  ...  Mercado       Lamininas de La Merced\n",
       "173  173  19.4314834886,-99.1259717478  ...    Hotel                      Soledad\n",
       "115  115  19.4336966991,-99.1237253904  ...    Hotel                        Antas\n",
       "\n",
       "[8 rows x 8 columns]"
      ]
     },
     "execution_count": 6,
     "metadata": {},
     "output_type": "execute_result"
    }
   ],
   "source": [
    "df.sample(8)"
   ]
  },
  {
   "cell_type": "markdown",
   "id": "36100ca3-9595-4c93-9fc0-030e7ecc9311",
   "metadata": {},
   "source": [
    "### **1.2 Muestreo sistemático**"
   ]
  },
  {
   "cell_type": "code",
   "execution_count": 7,
   "id": "5b78a507-4cba-439c-8aa1-376db335d206",
   "metadata": {},
   "outputs": [
    {
     "data": {
      "text/html": [
       "<div>\n",
       "<style scoped>\n",
       "    .dataframe tbody tr th:only-of-type {\n",
       "        vertical-align: middle;\n",
       "    }\n",
       "\n",
       "    .dataframe tbody tr th {\n",
       "        vertical-align: top;\n",
       "    }\n",
       "\n",
       "    .dataframe thead th {\n",
       "        text-align: right;\n",
       "    }\n",
       "</style>\n",
       "<table border=\"1\" class=\"dataframe\">\n",
       "  <thead>\n",
       "    <tr style=\"text-align: right;\">\n",
       "      <th></th>\n",
       "      <th>id</th>\n",
       "      <th>geo_point_2d</th>\n",
       "      <th>geo_shape</th>\n",
       "      <th>clave_cat</th>\n",
       "      <th>delegacion</th>\n",
       "      <th>perimetro</th>\n",
       "      <th>tipo</th>\n",
       "      <th>nom_id</th>\n",
       "    </tr>\n",
       "  </thead>\n",
       "  <tbody>\n",
       "    <tr>\n",
       "      <th>0</th>\n",
       "      <td>0</td>\n",
       "      <td>19.424781053,-99.1327537959</td>\n",
       "      <td>{\"type\": \"Polygon\", \"coordinates\": [[[-99.1332...</td>\n",
       "      <td>307_130_11</td>\n",
       "      <td>Cuauhtémoc</td>\n",
       "      <td>B</td>\n",
       "      <td>Mercado</td>\n",
       "      <td>Pino Suárez</td>\n",
       "    </tr>\n",
       "    <tr>\n",
       "      <th>3</th>\n",
       "      <td>3</td>\n",
       "      <td>19.42489472,-99.12073393</td>\n",
       "      <td>{\"type\": \"MultiPoint\", \"coordinates\": [[-99.12...</td>\n",
       "      <td>323_102_06</td>\n",
       "      <td>Venustiano Carranza</td>\n",
       "      <td>B</td>\n",
       "      <td>Hotel</td>\n",
       "      <td>Balbuena</td>\n",
       "    </tr>\n",
       "    <tr>\n",
       "      <th>6</th>\n",
       "      <td>6</td>\n",
       "      <td>19.43553422,-99.12324801</td>\n",
       "      <td>{\"type\": \"MultiPoint\", \"coordinates\": [[-99.12...</td>\n",
       "      <td>318_116_11</td>\n",
       "      <td>Venustiano Carranza</td>\n",
       "      <td>B</td>\n",
       "      <td>Hotel</td>\n",
       "      <td>San Antonio Tomatlan</td>\n",
       "    </tr>\n",
       "    <tr>\n",
       "      <th>9</th>\n",
       "      <td>9</td>\n",
       "      <td>19.4407152937,-99.1498060057</td>\n",
       "      <td>{\"type\": \"MultiPoint\", \"coordinates\": [[-99.14...</td>\n",
       "      <td>012_146_22</td>\n",
       "      <td>Cuautémoc</td>\n",
       "      <td>B</td>\n",
       "      <td>Hotel</td>\n",
       "      <td>Detroit</td>\n",
       "    </tr>\n",
       "    <tr>\n",
       "      <th>12</th>\n",
       "      <td>12</td>\n",
       "      <td>19.43990186,-99.14813347</td>\n",
       "      <td>{\"type\": \"MultiPoint\", \"coordinates\": [[-99.14...</td>\n",
       "      <td>003_079_16</td>\n",
       "      <td>Cuautémoc</td>\n",
       "      <td>B</td>\n",
       "      <td>Hotel</td>\n",
       "      <td>La Paz</td>\n",
       "    </tr>\n",
       "    <tr>\n",
       "      <th>...</th>\n",
       "      <td>...</td>\n",
       "      <td>...</td>\n",
       "      <td>...</td>\n",
       "      <td>...</td>\n",
       "      <td>...</td>\n",
       "      <td>...</td>\n",
       "      <td>...</td>\n",
       "      <td>...</td>\n",
       "    </tr>\n",
       "    <tr>\n",
       "      <th>216</th>\n",
       "      <td>216</td>\n",
       "      <td>19.4247697438,-99.1249707246</td>\n",
       "      <td>{\"type\": \"Polygon\", \"coordinates\": [[[-99.1250...</td>\n",
       "      <td>323_118_37</td>\n",
       "      <td>Venustiano Carranza</td>\n",
       "      <td>B</td>\n",
       "      <td>Mercado</td>\n",
       "      <td>Lamininas de La Merced</td>\n",
       "    </tr>\n",
       "    <tr>\n",
       "      <th>219</th>\n",
       "      <td>219</td>\n",
       "      <td>19.4234096295,-99.1438351156</td>\n",
       "      <td>{\"type\": \"MultiPoint\", \"coordinates\": [[-99.14...</td>\n",
       "      <td>002_118_03</td>\n",
       "      <td>Cuautémoc</td>\n",
       "      <td>B</td>\n",
       "      <td>Hotel</td>\n",
       "      <td>Prado Floresta</td>\n",
       "    </tr>\n",
       "    <tr>\n",
       "      <th>222</th>\n",
       "      <td>222</td>\n",
       "      <td>19.4397905042,-99.134628735</td>\n",
       "      <td>{\"type\": \"MultiPoint\", \"coordinates\": [[-99.13...</td>\n",
       "      <td>004_063_10</td>\n",
       "      <td>Cuautémoc</td>\n",
       "      <td>A</td>\n",
       "      <td>Hotel</td>\n",
       "      <td>Ladero</td>\n",
       "    </tr>\n",
       "    <tr>\n",
       "      <th>225</th>\n",
       "      <td>225</td>\n",
       "      <td>19.43094655,-99.12455418</td>\n",
       "      <td>{\"type\": \"MultiPoint\", \"coordinates\": [[-99.12...</td>\n",
       "      <td>323_027_04</td>\n",
       "      <td>Venustiano Carranza</td>\n",
       "      <td>B</td>\n",
       "      <td>Hotel</td>\n",
       "      <td>Gran Veracruz</td>\n",
       "    </tr>\n",
       "    <tr>\n",
       "      <th>228</th>\n",
       "      <td>228</td>\n",
       "      <td>19.4406567734,-99.1394531646</td>\n",
       "      <td>{\"type\": \"MultiPoint\", \"coordinates\": [[-99.13...</td>\n",
       "      <td>004_069_01</td>\n",
       "      <td>Cuautémoc</td>\n",
       "      <td>B</td>\n",
       "      <td>Museo</td>\n",
       "      <td>Tequila y Mescal</td>\n",
       "    </tr>\n",
       "  </tbody>\n",
       "</table>\n",
       "<p>77 rows × 8 columns</p>\n",
       "</div>"
      ],
      "text/plain": [
       "      id                  geo_point_2d  ...     tipo                  nom_id\n",
       "0      0   19.424781053,-99.1327537959  ...  Mercado             Pino Suárez\n",
       "3      3      19.42489472,-99.12073393  ...    Hotel                Balbuena\n",
       "6      6      19.43553422,-99.12324801  ...    Hotel    San Antonio Tomatlan\n",
       "9      9  19.4407152937,-99.1498060057  ...    Hotel                 Detroit\n",
       "12    12      19.43990186,-99.14813347  ...    Hotel                  La Paz\n",
       "..   ...                           ...  ...      ...                     ...\n",
       "216  216  19.4247697438,-99.1249707246  ...  Mercado  Lamininas de La Merced\n",
       "219  219  19.4234096295,-99.1438351156  ...    Hotel          Prado Floresta\n",
       "222  222   19.4397905042,-99.134628735  ...    Hotel                  Ladero\n",
       "225  225      19.43094655,-99.12455418  ...    Hotel           Gran Veracruz\n",
       "228  228  19.4406567734,-99.1394531646  ...    Museo        Tequila y Mescal\n",
       "\n",
       "[77 rows x 8 columns]"
      ]
     },
     "execution_count": 7,
     "metadata": {},
     "output_type": "execute_result"
    }
   ],
   "source": [
    "posicion_inicial = 0\n",
    "posicion_final = len(df)\n",
    "steps = 3\n",
    "\n",
    "df.iloc[list(range(posicion_inicial,posicion_final,steps)),:]"
   ]
  },
  {
   "cell_type": "markdown",
   "id": "fec7414f-d0ef-4b20-a852-51fc9f02e708",
   "metadata": {},
   "source": [
    "### **1.3 Muestreo estratificado**"
   ]
  },
  {
   "cell_type": "code",
   "execution_count": 8,
   "id": "6ebc36da-e6b9-421a-bb7d-207c159ca209",
   "metadata": {},
   "outputs": [],
   "source": [
    "df['category'] = df['delegacion'] + '_' + df['tipo']"
   ]
  },
  {
   "cell_type": "code",
   "execution_count": 9,
   "id": "fdbd8fda-bea4-4de3-b78e-390d9b3ec52c",
   "metadata": {},
   "outputs": [
    {
     "data": {
      "text/html": [
       "<div>\n",
       "<style scoped>\n",
       "    .dataframe tbody tr th:only-of-type {\n",
       "        vertical-align: middle;\n",
       "    }\n",
       "\n",
       "    .dataframe tbody tr th {\n",
       "        vertical-align: top;\n",
       "    }\n",
       "\n",
       "    .dataframe thead th {\n",
       "        text-align: right;\n",
       "    }\n",
       "</style>\n",
       "<table border=\"1\" class=\"dataframe\">\n",
       "  <thead>\n",
       "    <tr style=\"text-align: right;\">\n",
       "      <th></th>\n",
       "      <th>category</th>\n",
       "    </tr>\n",
       "  </thead>\n",
       "  <tbody>\n",
       "    <tr>\n",
       "      <th>Cuautémoc_Hotel</th>\n",
       "      <td>64.35</td>\n",
       "    </tr>\n",
       "    <tr>\n",
       "      <th>Cuautémoc_Museo</th>\n",
       "      <td>15.65</td>\n",
       "    </tr>\n",
       "    <tr>\n",
       "      <th>Venustiano Carranza_Hotel</th>\n",
       "      <td>7.83</td>\n",
       "    </tr>\n",
       "    <tr>\n",
       "      <th>Cuauhtémoc_Mercado</th>\n",
       "      <td>7.39</td>\n",
       "    </tr>\n",
       "    <tr>\n",
       "      <th>Venustiano Carranza_Mercado</th>\n",
       "      <td>4.78</td>\n",
       "    </tr>\n",
       "  </tbody>\n",
       "</table>\n",
       "</div>"
      ],
      "text/plain": [
       "                             category\n",
       "Cuautémoc_Hotel                 64.35\n",
       "Cuautémoc_Museo                 15.65\n",
       "Venustiano Carranza_Hotel        7.83\n",
       "Cuauhtémoc_Mercado               7.39\n",
       "Venustiano Carranza_Mercado      4.78"
      ]
     },
     "execution_count": 9,
     "metadata": {},
     "output_type": "execute_result"
    }
   ],
   "source": [
    "pd.DataFrame(round(df['category'].value_counts()/len(df) * 100, 2))"
   ]
  },
  {
   "cell_type": "code",
   "execution_count": 10,
   "id": "3731ba9c-29ba-4fdd-b9e7-3376679cbe99",
   "metadata": {},
   "outputs": [],
   "source": [
    "df_est = pd.DataFrame(columns = df.columns)\n",
    "muestra = 0.25\n",
    "\n",
    "for i in set(df['category']):\n",
    "    df_muestra = df.query(f'category == \"{i}\"').sample(int(muestra * len(df.query(f'category == \"{i}\"')))).copy()\n",
    "    df_est = pd.concat([df_est, df_muestra], axis=0)"
   ]
  },
  {
   "cell_type": "code",
   "execution_count": 11,
   "id": "393e8402-a904-42ca-9b2d-1fab983e42b3",
   "metadata": {},
   "outputs": [
    {
     "data": {
      "text/html": [
       "<div>\n",
       "<style scoped>\n",
       "    .dataframe tbody tr th:only-of-type {\n",
       "        vertical-align: middle;\n",
       "    }\n",
       "\n",
       "    .dataframe tbody tr th {\n",
       "        vertical-align: top;\n",
       "    }\n",
       "\n",
       "    .dataframe thead th {\n",
       "        text-align: right;\n",
       "    }\n",
       "</style>\n",
       "<table border=\"1\" class=\"dataframe\">\n",
       "  <thead>\n",
       "    <tr style=\"text-align: right;\">\n",
       "      <th></th>\n",
       "      <th>category</th>\n",
       "    </tr>\n",
       "  </thead>\n",
       "  <tbody>\n",
       "    <tr>\n",
       "      <th>Cuautémoc_Hotel</th>\n",
       "      <td>66.07</td>\n",
       "    </tr>\n",
       "    <tr>\n",
       "      <th>Cuautémoc_Museo</th>\n",
       "      <td>16.07</td>\n",
       "    </tr>\n",
       "    <tr>\n",
       "      <th>Venustiano Carranza_Hotel</th>\n",
       "      <td>7.14</td>\n",
       "    </tr>\n",
       "    <tr>\n",
       "      <th>Cuauhtémoc_Mercado</th>\n",
       "      <td>7.14</td>\n",
       "    </tr>\n",
       "    <tr>\n",
       "      <th>Venustiano Carranza_Mercado</th>\n",
       "      <td>3.57</td>\n",
       "    </tr>\n",
       "  </tbody>\n",
       "</table>\n",
       "</div>"
      ],
      "text/plain": [
       "                             category\n",
       "Cuautémoc_Hotel                 66.07\n",
       "Cuautémoc_Museo                 16.07\n",
       "Venustiano Carranza_Hotel        7.14\n",
       "Cuauhtémoc_Mercado               7.14\n",
       "Venustiano Carranza_Mercado      3.57"
      ]
     },
     "execution_count": 11,
     "metadata": {},
     "output_type": "execute_result"
    }
   ],
   "source": [
    "pd.DataFrame(round(df_est['category'].value_counts()/len(df_est) * 100, 2))"
   ]
  },
  {
   "cell_type": "markdown",
   "id": "6b5ef546-73a5-40fb-8cd4-9be40dd5c736",
   "metadata": {},
   "source": [
    "## **2. Estadísticos y cálculos**"
   ]
  },
  {
   "cell_type": "code",
   "execution_count": 12,
   "id": "5016046d-c4e5-41e0-9b5a-085d15f49805",
   "metadata": {},
   "outputs": [],
   "source": [
    "iris = sns.load_dataset('iris')"
   ]
  },
  {
   "cell_type": "code",
   "execution_count": 13,
   "id": "22e00f47-440d-4313-a516-fe05aaf91149",
   "metadata": {},
   "outputs": [
    {
     "data": {
      "image/png": "[encoded data removed]",
      "text/plain": [
       "<Figure size 828x360 with 1 Axes>"
      ]
     },
     "metadata": {
      "needs_background": "dark"
     },
     "output_type": "display_data"
    }
   ],
   "source": [
    "sns.set(rc={'figure.facecolor': '#21252b', 'axes.facecolor': '#282c34'})\n",
    "\n",
    "sns.displot(data=iris, x='sepal_length', kde=True, alpha=0.8, bins=36, aspect=11.5/5)\n",
    "\n",
    "plt.title('Histograma de frecuencia del largo del sépalo', fontweight=1000, color='w', fontsize=14)\n",
    "\n",
    "plt.xlabel('Largo del sépalo', color='w', fontweight=1000)\n",
    "plt.xticks(color='white', size=12)\n",
    "\n",
    "plt.ylabel('Conteo', color='w', fontweight=1000)\n",
    "plt.yticks(color='white', size=12)\n",
    "\n",
    "plt.grid(linewidth=0.2)\n",
    "\n",
    "plt.show()"
   ]
  },
  {
   "cell_type": "markdown",
   "id": "24097043-b197-4374-a7d2-6c5d9645aac0",
   "metadata": {},
   "source": [
    "#### **Promedio**"
   ]
  },
  {
   "cell_type": "code",
   "execution_count": 14,
   "id": "13af139e-172b-465e-a70d-9613ab233448",
   "metadata": {},
   "outputs": [
    {
     "data": {
      "text/plain": [
       "5.84"
      ]
     },
     "execution_count": 14,
     "metadata": {},
     "output_type": "execute_result"
    }
   ],
   "source": [
    "round(iris['sepal_length'].mean(), 2)"
   ]
  },
  {
   "cell_type": "markdown",
   "id": "13eb74ae-dbfd-4ecf-b81b-b9f13ce597aa",
   "metadata": {},
   "source": [
    "#### **Varianza**"
   ]
  },
  {
   "cell_type": "code",
   "execution_count": 15,
   "id": "423660b6-7cb9-42df-8893-48e8058949fc",
   "metadata": {},
   "outputs": [
    {
     "data": {
      "text/plain": [
       "0.69"
      ]
     },
     "execution_count": 15,
     "metadata": {},
     "output_type": "execute_result"
    }
   ],
   "source": [
    "round(iris['sepal_length'].var(), 2)"
   ]
  },
  {
   "cell_type": "markdown",
   "id": "31061d53-6717-4e17-acf7-9e3fe2d573d0",
   "metadata": {},
   "source": [
    "#### **Desviación estándar**"
   ]
  },
  {
   "cell_type": "code",
   "execution_count": 16,
   "id": "354054c8-5b8a-4aff-975a-cb8756386686",
   "metadata": {},
   "outputs": [
    {
     "data": {
      "text/plain": [
       "0.83"
      ]
     },
     "execution_count": 16,
     "metadata": {},
     "output_type": "execute_result"
    }
   ],
   "source": [
    "round(iris['sepal_length'].std(), 2)"
   ]
  },
  {
   "cell_type": "markdown",
   "id": "df63d449-a950-4ef6-8f62-9f2d9ea4faeb",
   "metadata": {},
   "source": [
    "### **Aplicando muestreo aleatorio simple**"
   ]
  },
  {
   "cell_type": "code",
   "execution_count": 17,
   "id": "d613374c-e054-4a3b-b038-5f60f805b988",
   "metadata": {},
   "outputs": [],
   "source": [
    "iris_sample = iris.sample(frac=0.5)"
   ]
  },
  {
   "cell_type": "markdown",
   "id": "65ed192c-2e97-468b-9a30-206428edc479",
   "metadata": {},
   "source": [
    "#### **Promedio muestral**"
   ]
  },
  {
   "cell_type": "code",
   "execution_count": 18,
   "id": "9ca3e429-040b-4583-842e-a8844bf4bb9f",
   "metadata": {},
   "outputs": [
    {
     "data": {
      "text/plain": [
       "5.704000000000001"
      ]
     },
     "execution_count": 18,
     "metadata": {},
     "output_type": "execute_result"
    }
   ],
   "source": [
    "iris_sample['sepal_length'].mean()"
   ]
  },
  {
   "cell_type": "markdown",
   "id": "4d8c5ba1-67b3-4874-9cc2-eec8d926d732",
   "metadata": {},
   "source": [
    "#### **Varianza muestral**"
   ]
  },
  {
   "cell_type": "code",
   "execution_count": 19,
   "id": "a515e1ae-5b88-4c31-a2cd-a48bee21f0c3",
   "metadata": {},
   "outputs": [
    {
     "data": {
      "text/plain": [
       "0.61"
      ]
     },
     "execution_count": 19,
     "metadata": {},
     "output_type": "execute_result"
    }
   ],
   "source": [
    "round(iris_sample['sepal_length'].var(), 2)"
   ]
  },
  {
   "cell_type": "markdown",
   "id": "f5a44cdf-4872-4291-b8c4-68492b514c65",
   "metadata": {},
   "source": [
    "#### **Desviación estándar muestral**"
   ]
  },
  {
   "cell_type": "code",
   "execution_count": 20,
   "id": "5f72821f-d4af-4b15-814a-180321a98ec0",
   "metadata": {},
   "outputs": [
    {
     "data": {
      "text/plain": [
       "0.78"
      ]
     },
     "execution_count": 20,
     "metadata": {},
     "output_type": "execute_result"
    }
   ],
   "source": [
    "round(iris_sample['sepal_length'].std(), 2)"
   ]
  },
  {
   "cell_type": "markdown",
   "id": "63a16748-7fd4-4f4b-b420-e3d5360bbce2",
   "metadata": {},
   "source": [
    "## **3. Intervalos de Confianza**"
   ]
  },
  {
   "cell_type": "markdown",
   "id": "7e8ea937-e892-49da-8e02-56534488aeb9",
   "metadata": {},
   "source": [
    "### **Conociendo el nivel de significancia**"
   ]
  },
  {
   "cell_type": "markdown",
   "id": "a2cb2c8a-61b1-4ef9-ab21-efc782313fb4",
   "metadata": {},
   "source": [
    "El valor de alpha es del 5%. El intervalo de confienza es del 95%"
   ]
  },
  {
   "cell_type": "code",
   "execution_count": 21,
   "id": "37b47c5f-2595-4cdf-ae8e-a40e000de27a",
   "metadata": {},
   "outputs": [
    {
     "data": {
      "text/plain": [
       "1.96"
      ]
     },
     "execution_count": 21,
     "metadata": {},
     "output_type": "execute_result"
    }
   ],
   "source": [
    "# Valor Z\n",
    "round(stats.norm.ppf(0.975), 2)"
   ]
  },
  {
   "cell_type": "markdown",
   "id": "e4ce77e9-7081-4843-9f78-0e22e030b8f9",
   "metadata": {},
   "source": [
    "El intervalo de confianza sería: [-1.96, 1.96]"
   ]
  },
  {
   "cell_type": "markdown",
   "id": "38b43472-b4c4-4907-a0bc-03acc6645d53",
   "metadata": {},
   "source": [
    "### **Conociendo la media y la desviación estándar**"
   ]
  },
  {
   "cell_type": "markdown",
   "id": "7b62ec52-a688-4862-8325-d7884a8ccc25",
   "metadata": {},
   "source": [
    "**Media** = 28 \n",
    "\n",
    "**Desviación estándar** = 4 \n",
    "\n",
    "**alpha** = 20% El intervalo de confienza es del 80%"
   ]
  },
  {
   "cell_type": "code",
   "execution_count": 22,
   "id": "8f3e86bd-e499-41d4-bc8c-5cd5897a837d",
   "metadata": {},
   "outputs": [],
   "source": [
    "# Valor Z\n",
    "z_value = round(stats.norm.ppf(0.9), 2)"
   ]
  },
  {
   "cell_type": "markdown",
   "id": "341a5ed3-6a8a-4787-9044-dae7babce33d",
   "metadata": {},
   "source": [
    "El intervalo de confianza con valores z sería: [-1.28, 1.28]\n",
    "\n",
    "Conociendo la media y la desviación estándar podemos calcular los valores."
   ]
  },
  {
   "cell_type": "markdown",
   "id": "76c35753-5741-4bda-87e1-50a9d1706abd",
   "metadata": {},
   "source": [
    "$$Z = \\frac{x - \\mu}{\\sigma}$$\n",
    "\n",
    "Entonces.\n",
    "\n",
    "$$x = ({Z * \\sigma}) + {\\mu}$$"
   ]
  },
  {
   "cell_type": "code",
   "execution_count": 23,
   "id": "4343fcc3-66ba-4f5d-889f-9e1cf612ef5d",
   "metadata": {},
   "outputs": [],
   "source": [
    "lim_inf = (-z_value * 4) + 28\n",
    "lim_sup = (z_value * 4) + 28"
   ]
  },
  {
   "cell_type": "code",
   "execution_count": 24,
   "id": "46afad79-bf8f-4102-b268-640e0dd8904d",
   "metadata": {},
   "outputs": [
    {
     "data": {
      "text/plain": [
       "[22.88, 33.12]"
      ]
     },
     "execution_count": 24,
     "metadata": {},
     "output_type": "execute_result"
    }
   ],
   "source": [
    "[lim_inf, lim_sup]"
   ]
  },
  {
   "cell_type": "code",
   "execution_count": 25,
   "id": "10b2df0f-40b5-4770-be6c-e77527fa7544",
   "metadata": {},
   "outputs": [],
   "source": [
    "def intervalos_confianza(alpha, mean, std):\n",
    "    confianza = 1 - (alpha/2)    \n",
    "    z_value = round(stats.norm.ppf(confianza), 2)\n",
    "    \n",
    "    lim_inf = (-z_value * 4) + 28\n",
    "    lim_sup = (z_value * 4) + 28\n",
    "    \n",
    "    return [lim_inf, lim_sup]"
   ]
  },
  {
   "cell_type": "markdown",
   "id": "428ddf18-c99a-4176-a44f-755fde11d141",
   "metadata": {},
   "source": [
    "### **Aplicando a una simulación**"
   ]
  },
  {
   "cell_type": "code",
   "execution_count": 26,
   "id": "09c162b6-d62d-41bb-8b73-0189d12ea170",
   "metadata": {},
   "outputs": [],
   "source": [
    "var_1 = np.random.randint(0, 10, 10)\n",
    "var_2 = var_1 + np.random.normal(0, 1, 10)"
   ]
  },
  {
   "cell_type": "code",
   "execution_count": 33,
   "id": "1ace8e14-25ca-452b-a28c-f2fbbeb398a4",
   "metadata": {},
   "outputs": [
    {
     "data": {
      "image/png": "[encoded data removed]",
      "text/plain": [
       "<Figure size 1400x500 with 1 Axes>"
      ]
     },
     "metadata": {},
     "output_type": "display_data"
    }
   ],
   "source": [
    "fig, ax = plt.subplots(figsize=(14, 5))\n",
    "\n",
    "sns.regplot(x=var_1, y=var_2, ci=80)\n",
    "\n",
    "plt.xlabel('Variable 1', color='w', fontweight=1000)\n",
    "plt.xticks(color='white', size=12)\n",
    "\n",
    "plt.ylabel('Variable 2', color='w', fontweight=1000)\n",
    "plt.yticks(color='white', size=12)\n",
    "\n",
    "plt.grid(linewidth=0.2)\n",
    "\n",
    "plt.show()"
   ]
  },
  {
   "cell_type": "code",
   "execution_count": 28,
   "id": "8612ead1-fc58-44aa-951c-ce656e70dff8",
   "metadata": {},
   "outputs": [],
   "source": [
    "datos = pd.DataFrame(list(zip(var_1, var_2)), columns=['Variable_1', 'Variable_2'])"
   ]
  },
  {
   "cell_type": "code",
   "execution_count": 31,
   "id": "84b8510a-2a9d-4b28-adf4-560e19ed6b04",
   "metadata": {},
   "outputs": [
    {
     "data": {
      "text/plain": [
       "(array([1.14964091, 0.55381917]), array([5.05035909, 5.53263066]))"
      ]
     },
     "execution_count": 31,
     "metadata": {},
     "output_type": "execute_result"
    }
   ],
   "source": [
    "# Para muestras menores a 30. En este caso utilizamos la distribución t\n",
    "stats.t.interval(alpha=0.95, df=len(datos)-1, loc=np.mean(datos), scale=stats.sem(datos))"
   ]
  },
  {
   "cell_type": "code",
   "execution_count": 30,
   "id": "4ddf7125-f8c6-4176-9747-8cb30117dc69",
   "metadata": {},
   "outputs": [
    {
     "data": {
      "text/plain": [
       "(array([1.41018214, 0.88636965]), array([4.78981786, 5.20008019]))"
      ]
     },
     "execution_count": 30,
     "metadata": {},
     "output_type": "execute_result"
    }
   ],
   "source": [
    "# Para muestras mayores a 29. En este caso utilizamos la distribución normal\n",
    "stats.norm.interval(alpha=0.95, loc=np.mean(datos), scale=stats.sem(datos))"
   ]
  },
  {
   "cell_type": "markdown",
   "id": "19281211-a03a-43c6-8619-9b84988a673b",
   "metadata": {},
   "source": [
    "## **4. Pruebas de hipótesis**"
   ]
  },
  {
   "cell_type": "markdown",
   "id": "1ca5d4bb-28b3-42c6-8873-745272e4de9b",
   "metadata": {},
   "source": [
    "<ol>\n",
    "    <li>Establecer una hipótesis nula (Ho) y una hipótesis alternativa (H1).</li>\n",
    "    <li>Seleccionar el nivel de significancia.</li>\n",
    "    <li>Seleccionar el estadístico de prueba.</li>\n",
    "    <li>Formular la regla de decisión.</li>\n",
    "    <li>Interpretar los resultados y tomar una decisión.</li>\n",
    "<ol>"
   ]
  },
  {
   "cell_type": "markdown",
   "id": "d140fb6b-d2c5-4e97-82a2-db79a9860736",
   "metadata": {},
   "source": [
    "### **Tipos de pruebas de hipótesis**"
   ]
  },
  {
   "cell_type": "markdown",
   "id": "d6c4a118-07f7-4f24-b121-f9ef1f783f61",
   "metadata": {},
   "source": [
    "#### **Distribución T-Student**\n",
    "\n",
    "Se usa para estimar una **media de población** normalmente distribuida a partir de una muestra pequeña que sigue una distribución normal y de la que desconocemos la desviación estándar.\n",
    "\n",
    "$$t = \\frac{x_1 - x_2}{\\sqrt{\\frac{(s_1)^{2}}{n_1} + \\frac{(s_2)^{2}}{n_2}}}$$"
   ]
  },
  {
   "cell_type": "code",
   "execution_count": 43,
   "id": "cea0e8ea-587c-4bea-990c-45179bf67fe5",
   "metadata": {},
   "outputs": [],
   "source": [
    "se_length = iris['sepal_length'].std() / np.sqrt(10) \n",
    "se_width = iris['sepal_width'].std() / np.sqrt(10)"
   ]
  },
  {
   "cell_type": "code",
   "execution_count": 44,
   "id": "aa16eb7d-00d2-4767-98e8-c014bd219631",
   "metadata": {},
   "outputs": [],
   "source": [
    "sed = np.sqrt((se_length**2) + (se_width**2))"
   ]
  },
  {
   "cell_type": "code",
   "execution_count": 48,
   "id": "12c9c9b1-63e9-4518-bfde-cce5e8dc63aa",
   "metadata": {},
   "outputs": [],
   "source": [
    "t_stat = (iris['sepal_length'].mean() - iris['sepal_width'].mean()) / sed"
   ]
  },
  {
   "cell_type": "code",
   "execution_count": 49,
   "id": "e25ba950-16d4-4300-807f-43f632e681ac",
   "metadata": {},
   "outputs": [
    {
     "data": {
      "text/plain": [
       "9.414779428410263"
      ]
     },
     "execution_count": 49,
     "metadata": {},
     "output_type": "execute_result"
    }
   ],
   "source": [
    "t_stat"
   ]
  },
  {
   "cell_type": "code",
   "execution_count": 51,
   "id": "d9820689-c6c6-4f1d-a9d6-c2dd18e146a6",
   "metadata": {},
   "outputs": [],
   "source": [
    "p = stats.ttest_ind(iris['sepal_length'], iris['sepal_width'])"
   ]
  },
  {
   "cell_type": "code",
   "execution_count": 55,
   "id": "d9b6545f-e186-460b-8745-ac27ed9a84c1",
   "metadata": {},
   "outputs": [
    {
     "data": {
      "text/plain": [
       "7.027919392009369e-112"
      ]
     },
     "execution_count": 55,
     "metadata": {},
     "output_type": "execute_result"
    }
   ],
   "source": [
    "p.pvalue"
   ]
  },
  {
   "cell_type": "code",
   "execution_count": 60,
   "id": "705582e0-25f3-4a5f-b2ab-b69d564ce3bc",
   "metadata": {},
   "outputs": [
    {
     "data": {
      "text/plain": [
       "-2.0930240544082634"
      ]
     },
     "execution_count": 60,
     "metadata": {},
     "output_type": "execute_result"
    }
   ],
   "source": [
    "stats.t.ppf(0.025, 19)"
   ]
  },
  {
   "cell_type": "code",
   "execution_count": null,
   "id": "09666b31-1051-4870-9eee-8bc2ba0bbb6e",
   "metadata": {},
   "outputs": [],
   "source": []
  },
  {
   "cell_type": "code",
   "execution_count": null,
   "id": "bbfc17db-d5ba-46d5-834b-cd91f2c90d95",
   "metadata": {},
   "outputs": [],
   "source": []
  },
  {
   "cell_type": "code",
   "execution_count": null,
   "id": "8b71bd47-3a4d-4309-aeef-07420e48f7ea",
   "metadata": {},
   "outputs": [],
   "source": []
  },
  {
   "cell_type": "markdown",
   "id": "594e53ce-da6c-4354-ae8d-36072b986097",
   "metadata": {},
   "source": [
    "#### **Coefiente de Pearson**\n",
    "\n",
    "Se usa para medir la dependecia lineal (correlación) entre dos variables cuantitativas."
   ]
  },
  {
   "cell_type": "code",
   "execution_count": null,
   "id": "faca3fb9-60e9-4882-9c13-f2f20596a8d1",
   "metadata": {},
   "outputs": [],
   "source": []
  },
  {
   "cell_type": "markdown",
   "id": "b354638c-c1be-4acc-86c2-7dfb5b4abdb2",
   "metadata": {},
   "source": [
    "#### **Análisis de Varianza - ANOVA**\n",
    "\n",
    "Se usa para comparar las varianzas entre las medias de diferentes grupos."
   ]
  },
  {
   "cell_type": "code",
   "execution_count": null,
   "id": "82e6cf66-00ee-4d7a-8f83-a4b23001cb82",
   "metadata": {},
   "outputs": [],
   "source": []
  },
  {
   "cell_type": "markdown",
   "id": "2f6e5b91-4593-4a29-a3e7-ec474c27594e",
   "metadata": {},
   "source": [
    "### **Tipos de errores**"
   ]
  },
  {
   "cell_type": "markdown",
   "id": "c6706eda-120d-47ad-9804-61c27ed7f85b",
   "metadata": {},
   "source": [
    "**Decisiones correctas**\n",
    "\n",
    "- Rechazar Ho cuando es falsa.\n",
    "- No rechazar Ho cuando es verdadera.\n",
    "\n",
    "**Decisiones incorrectas**\n",
    "\n",
    "- Rechazar Ho cuando es verdadera.\n",
    "- No rechazar Ho cuando es falsa."
   ]
  },
  {
   "cell_type": "markdown",
   "id": "a20db7c7-1a3f-4e04-9a2e-d767a2fb092c",
   "metadata": {},
   "source": [
    "<table style='text-align:center'>\n",
    "  <tr>\n",
    "    <th></th>\n",
    "    <th><strong>Ho Verdadera</strong></th>\n",
    "    <th><strong>Ho Falsa</strong></th>\n",
    "  </tr>\n",
    "  <tr>\n",
    "    <td><strong>Rechazamos Ho</strong></td>\n",
    "    <td>\n",
    "        Error tipo I <br/>\n",
    "        P(Error tipo I) = α\n",
    "    </td>\n",
    "    <td>Decisión correcta</td>\n",
    "  </tr>\n",
    "  <tr>\n",
    "    <td><strong>No rechazamos Ho</strong></td>\n",
    "    <td>Decisión correcta</td>\n",
    "    <td>\n",
    "        Error tipo II <br/>\n",
    "        P(Error tipo II) = β\n",
    "    </td>\n",
    "  </tr>\n",
    "</table>"
   ]
  },
  {
   "cell_type": "code",
   "execution_count": null,
   "id": "067e81cf-7d3d-4b82-8569-79da79f967f2",
   "metadata": {},
   "outputs": [],
   "source": []
  }
 ],
 "metadata": {
  "kernelspec": {
   "display_name": "Python 3 (ipykernel)",
   "language": "python",
   "name": "python3"
  },
  "language_info": {
   "codemirror_mode": {
    "name": "ipython",
    "version": 3
   },
   "file_extension": ".py",
   "mimetype": "text/x-python",
   "name": "python",
   "nbconvert_exporter": "python",
   "pygments_lexer": "ipython3",
   "version": "3.10.4"
  }
 },
 "nbformat": 4,
 "nbformat_minor": 5
}
