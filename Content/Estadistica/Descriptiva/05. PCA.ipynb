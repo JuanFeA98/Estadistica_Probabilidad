{
 "cells": [
  {
   "cell_type": "markdown",
   "id": "edae6484-8f9b-4ff9-940f-96ac74934d24",
   "metadata": {},
   "source": [
    "<h1 style='text-align:center; font-weight:bold'>\n",
    "    PCA: Análisis de Componentes Principales.\n",
    "</h1>"
   ]
  },
  {
   "cell_type": "markdown",
   "id": "e5a93902-781e-4035-8417-81c78d1be03c",
   "metadata": {},
   "source": [
    "## **Librerias**"
   ]
  },
  {
   "cell_type": "code",
   "execution_count": 1,
   "id": "ee96e936-f62f-4520-97b5-4ef33b2619e4",
   "metadata": {},
   "outputs": [],
   "source": [
    "import pandas as pd\n",
    "import numpy as np\n",
    "import matplotlib.pyplot as plt\n",
    "import seaborn as sns"
   ]
  },
  {
   "cell_type": "code",
   "execution_count": 105,
   "id": "e6898c0f-8a5f-4f4e-954f-fa1e47b96121",
   "metadata": {},
   "outputs": [],
   "source": [
    "from sklearn.preprocessing import StandardScaler\n",
    "from sklearn.model_selection import train_test_split\n",
    "from sklearn.decomposition import PCA\n",
    "\n",
    "from sklearn.linear_model import LogisticRegression\n",
    "\n",
    "from sklearn.metrics import classification_report, confusion_matrix"
   ]
  },
  {
   "cell_type": "code",
   "execution_count": 2,
   "id": "f0fc26fc-1df4-4d07-8dda-817973978f73",
   "metadata": {},
   "outputs": [],
   "source": [
    "pd.options.display.max_columns = False"
   ]
  },
  {
   "cell_type": "markdown",
   "id": "456dd2bb-4f7d-4d9f-97d4-2c46d3f3b0c7",
   "metadata": {},
   "source": [
    "## **Datos**"
   ]
  },
  {
   "cell_type": "code",
   "execution_count": 3,
   "id": "6cba4b6d-9486-4a99-b251-e2088c211db7",
   "metadata": {},
   "outputs": [],
   "source": [
    "df = sns.load_dataset('iris')"
   ]
  },
  {
   "cell_type": "code",
   "execution_count": 9,
   "id": "e5022d6c-2cce-4741-8720-ab130e06f76a",
   "metadata": {},
   "outputs": [],
   "source": [
    "scaler = StandardScaler()\n",
    "scaled = scaler.fit_transform(df.drop('species', axis=1))"
   ]
  },
  {
   "cell_type": "code",
   "execution_count": 10,
   "id": "3eae08ce-498e-4b38-b689-67a6ee417e48",
   "metadata": {},
   "outputs": [],
   "source": [
    "covariance_matrix = np.cov(scaled.T)"
   ]
  },
  {
   "cell_type": "code",
   "execution_count": 16,
   "id": "1222bd84-e417-487f-8a4a-a5f21cd322e1",
   "metadata": {},
   "outputs": [
    {
     "data": {
      "image/png": "[encoded data removed]",
      "text/plain": [
       "<Figure size 432x432 with 3 Axes>"
      ]
     },
     "metadata": {
      "needs_background": "light"
     },
     "output_type": "display_data"
    },
    {
     "data": {
      "image/png": "[encoded data removed]",
      "text/plain": [
       "<Figure size 432x432 with 3 Axes>"
      ]
     },
     "metadata": {
      "needs_background": "light"
     },
     "output_type": "display_data"
    }
   ],
   "source": [
    "sns.jointplot(data=df, x='petal_length', y='petal_width')\n",
    "sns.jointplot(x=scaled[:,2], y=scaled[:,3])\n",
    "\n",
    "plt.show()"
   ]
  },
  {
   "cell_type": "markdown",
   "id": "3b6b7a49-677f-4f44-ba76-f1e6d98a57e4",
   "metadata": {},
   "source": [
    "### **Descomponer una matriz**"
   ]
  },
  {
   "cell_type": "code",
   "execution_count": 17,
   "id": "377040a5-7a9e-43ed-95b4-a50801bc6ca7",
   "metadata": {},
   "outputs": [],
   "source": [
    "eigen_values, eigen_vectors = np.linalg.eig(covariance_matrix)"
   ]
  },
  {
   "cell_type": "markdown",
   "id": "037d39a4-5dea-4c8c-b57e-0bb77b6aad4c",
   "metadata": {},
   "source": [
    "#### **Valores propios**"
   ]
  },
  {
   "cell_type": "code",
   "execution_count": 18,
   "id": "669bbc18-a28e-4943-b567-dcf0ac750107",
   "metadata": {},
   "outputs": [
    {
     "data": {
      "text/plain": [
       "array([2.93808505, 0.9201649 , 0.14774182, 0.02085386])"
      ]
     },
     "execution_count": 18,
     "metadata": {},
     "output_type": "execute_result"
    }
   ],
   "source": [
    "eigen_values"
   ]
  },
  {
   "cell_type": "markdown",
   "id": "71e760d9-3f41-4ca1-be42-d666f25efbab",
   "metadata": {},
   "source": [
    "#### **Vectores propios**"
   ]
  },
  {
   "cell_type": "code",
   "execution_count": 19,
   "id": "106a28d4-84ec-41f9-afe0-40930e64b4ec",
   "metadata": {},
   "outputs": [
    {
     "data": {
      "text/plain": [
       "array([[ 0.52106591, -0.37741762, -0.71956635,  0.26128628],\n",
       "       [-0.26934744, -0.92329566,  0.24438178, -0.12350962],\n",
       "       [ 0.5804131 , -0.02449161,  0.14212637, -0.80144925],\n",
       "       [ 0.56485654, -0.06694199,  0.63427274,  0.52359713]])"
      ]
     },
     "execution_count": 19,
     "metadata": {},
     "output_type": "execute_result"
    }
   ],
   "source": [
    "eigen_vectors"
   ]
  },
  {
   "cell_type": "code",
   "execution_count": null,
   "id": "d2c8b142-5f7a-4f54-95b7-c721814248b9",
   "metadata": {},
   "outputs": [],
   "source": []
  },
  {
   "cell_type": "code",
   "execution_count": 23,
   "id": "7283de16-4b63-4163-a50a-60e0e57627bd",
   "metadata": {},
   "outputs": [],
   "source": [
    "variance_explained = []\n",
    "\n",
    "for i in eigen_values:\n",
    "    variance_explained.append((i/eigen_values.sum()*100))"
   ]
  },
  {
   "cell_type": "code",
   "execution_count": 27,
   "id": "c5d64437-290a-43ee-ad9a-669acca2ccf9",
   "metadata": {},
   "outputs": [
    {
     "data": {
      "text/plain": [
       "[72.96244541329992, 22.85076178670171, 3.6689218892828683, 0.517870910715499]"
      ]
     },
     "execution_count": 27,
     "metadata": {},
     "output_type": "execute_result"
    }
   ],
   "source": [
    "variance_explained"
   ]
  },
  {
   "cell_type": "markdown",
   "id": "43e28245-b994-455b-bb94-1db05c4d14d2",
   "metadata": {},
   "source": [
    "### **PCA**"
   ]
  },
  {
   "cell_type": "code",
   "execution_count": 37,
   "id": "7b46d8be-a0a3-4a92-8f3e-b324d93e8fc0",
   "metadata": {},
   "outputs": [],
   "source": [
    "pca = PCA(n_components=2)"
   ]
  },
  {
   "cell_type": "code",
   "execution_count": 38,
   "id": "c20f499f-5be0-4b0d-8255-ed6fcad24fcb",
   "metadata": {},
   "outputs": [
    {
     "data": {
      "text/plain": [
       "PCA(n_components=2)"
      ]
     },
     "execution_count": 38,
     "metadata": {},
     "output_type": "execute_result"
    }
   ],
   "source": [
    "pca.fit(scaled)"
   ]
  },
  {
   "cell_type": "code",
   "execution_count": 51,
   "id": "827e833e-a460-4a5e-97a1-042c91e2ada8",
   "metadata": {},
   "outputs": [
    {
     "data": {
      "text/plain": [
       "array([0.72962445, 0.22850762])"
      ]
     },
     "execution_count": 51,
     "metadata": {},
     "output_type": "execute_result"
    }
   ],
   "source": [
    "pca.explained_variance_ratio_"
   ]
  },
  {
   "cell_type": "code",
   "execution_count": 41,
   "id": "ccfbd583-7386-41c8-b0f0-117fc152948a",
   "metadata": {},
   "outputs": [],
   "source": [
    "reduced_scaled = pca.transform(scaled)"
   ]
  },
  {
   "cell_type": "code",
   "execution_count": 53,
   "id": "b07d5dac-747b-473f-afe8-0a2795bcbbfd",
   "metadata": {},
   "outputs": [],
   "source": [
    "df['pca_1'] = reduced_scaled[:, 0]\n",
    "df['pca_2'] = reduced_scaled[:, 1]"
   ]
  },
  {
   "cell_type": "code",
   "execution_count": 57,
   "id": "319b99b0-48b4-48b1-be16-1b903bbebe9d",
   "metadata": {},
   "outputs": [
    {
     "data": {
      "image/png": "[encoded data removed]",
      "text/plain": [
       "<Figure size 432x432 with 3 Axes>"
      ]
     },
     "metadata": {
      "needs_background": "light"
     },
     "output_type": "display_data"
    }
   ],
   "source": [
    "sns.jointplot(data=df, x='pca_1', y='pca_2', hue='species')\n",
    "\n",
    "plt.show()"
   ]
  },
  {
   "cell_type": "markdown",
   "id": "014407ce-ea0f-4fd0-8e3b-90c5bdc5411f",
   "metadata": {},
   "source": [
    "### **Modelos**"
   ]
  },
  {
   "cell_type": "code",
   "execution_count": 72,
   "id": "d3bdb92e-58f0-4ab7-bf72-76c04bdd534a",
   "metadata": {},
   "outputs": [],
   "source": [
    "df['target'] = np.where(df['species'] == 'setosa', \n",
    "                        1, \n",
    "                        np.where(df['species'] == 'versicolor', \n",
    "                                 2, \n",
    "                                 np.where(df['species'] == 'virginica', 3, 0)))"
   ]
  },
  {
   "cell_type": "markdown",
   "id": "47c83fa9-a367-4cb7-bef4-b577f6ef22d4",
   "metadata": {},
   "source": [
    "#### **Modelo Inicial**"
   ]
  },
  {
   "cell_type": "code",
   "execution_count": 77,
   "id": "c2bd9f55-dcdb-4307-8fa5-ba82fa94086f",
   "metadata": {},
   "outputs": [],
   "source": [
    "X_train, X_test, y_train, y_test = train_test_split(df.drop(['species', 'target', 'pca_1', 'pca_2'], axis=1), df['target'], test_size=0.2, random_state=13)"
   ]
  },
  {
   "cell_type": "code",
   "execution_count": 91,
   "id": "2079d05f-7476-451f-9b95-79a424ff439d",
   "metadata": {},
   "outputs": [
    {
     "data": {
      "text/plain": [
       "LogisticRegression(max_iter=1000)"
      ]
     },
     "execution_count": 91,
     "metadata": {},
     "output_type": "execute_result"
    }
   ],
   "source": [
    "model_base = LogisticRegression(max_iter=1000)\n",
    "model_base.fit(X_train, y_train)"
   ]
  },
  {
   "cell_type": "code",
   "execution_count": 93,
   "id": "6fe32b02-7d76-48c6-967b-8abfe5676438",
   "metadata": {},
   "outputs": [],
   "source": [
    "y_pred = model_base.predict(X_test)"
   ]
  },
  {
   "cell_type": "code",
   "execution_count": 111,
   "id": "26a95c0c-6251-4a0c-b1ea-18a571320a88",
   "metadata": {},
   "outputs": [
    {
     "name": "stdout",
     "output_type": "stream",
     "text": [
      "              precision    recall  f1-score   support\n",
      "\n",
      "           1       1.00      1.00      1.00         9\n",
      "           2       0.89      1.00      0.94         8\n",
      "           3       1.00      0.92      0.96        13\n",
      "\n",
      "    accuracy                           0.97        30\n",
      "   macro avg       0.96      0.97      0.97        30\n",
      "weighted avg       0.97      0.97      0.97        30\n",
      "\n"
     ]
    }
   ],
   "source": [
    "print(classification_report(y_test, y_pred))"
   ]
  },
  {
   "cell_type": "code",
   "execution_count": 109,
   "id": "90b50e7f-610f-4dfb-8a3d-5340a9fbb505",
   "metadata": {},
   "outputs": [
    {
     "data": {
      "image/png": "[encoded data removed]",
      "text/plain": [
       "<Figure size 432x288 with 2 Axes>"
      ]
     },
     "metadata": {
      "needs_background": "light"
     },
     "output_type": "display_data"
    }
   ],
   "source": [
    "sns.heatmap(confusion_matrix(y_test, y_pred), annot=True, annot_kws={'size':12})\n",
    "\n",
    "plt.show()"
   ]
  },
  {
   "cell_type": "markdown",
   "id": "27527c76-cbaa-46c4-83d9-ae2a96a840d9",
   "metadata": {},
   "source": [
    "#### **Modelo PCA**"
   ]
  },
  {
   "cell_type": "code",
   "execution_count": 113,
   "id": "d868a733-4215-4894-946e-46727f8ca429",
   "metadata": {},
   "outputs": [],
   "source": [
    "X_train, X_test, y_train, y_test = train_test_split(df[['pca_1', 'pca_2']], df['target'], test_size=0.2, random_state=13)"
   ]
  },
  {
   "cell_type": "code",
   "execution_count": 114,
   "id": "feaed63a-214d-4b79-99f8-f4d0efd88ade",
   "metadata": {},
   "outputs": [
    {
     "data": {
      "text/plain": [
       "LogisticRegression(max_iter=1000)"
      ]
     },
     "execution_count": 114,
     "metadata": {},
     "output_type": "execute_result"
    }
   ],
   "source": [
    "model_base = LogisticRegression(max_iter=1000)\n",
    "model_base.fit(X_train, y_train)"
   ]
  },
  {
   "cell_type": "code",
   "execution_count": 115,
   "id": "ff78c867-44c5-4cfd-b9e1-2956aaf2e9a8",
   "metadata": {},
   "outputs": [],
   "source": [
    "y_pred = model_base.predict(X_test)"
   ]
  },
  {
   "cell_type": "code",
   "execution_count": 116,
   "id": "7523210c-7110-4096-a521-81d4347b9dee",
   "metadata": {},
   "outputs": [
    {
     "name": "stdout",
     "output_type": "stream",
     "text": [
      "              precision    recall  f1-score   support\n",
      "\n",
      "           1       1.00      1.00      1.00         9\n",
      "           2       0.73      1.00      0.84         8\n",
      "           3       1.00      0.77      0.87        13\n",
      "\n",
      "    accuracy                           0.90        30\n",
      "   macro avg       0.91      0.92      0.90        30\n",
      "weighted avg       0.93      0.90      0.90        30\n",
      "\n"
     ]
    }
   ],
   "source": [
    "print(classification_report(y_test, y_pred))"
   ]
  },
  {
   "cell_type": "code",
   "execution_count": 117,
   "id": "23900b04-a72b-43fe-a300-4d6f8735db43",
   "metadata": {},
   "outputs": [
    {
     "data": {
      "image/png": "[encoded data removed]",
      "text/plain": [
       "<Figure size 432x288 with 2 Axes>"
      ]
     },
     "metadata": {
      "needs_background": "light"
     },
     "output_type": "display_data"
    }
   ],
   "source": [
    "sns.heatmap(confusion_matrix(y_test, y_pred), annot=True, annot_kws={'size':12})\n",
    "\n",
    "plt.show()"
   ]
  }
 ],
 "metadata": {
  "kernelspec": {
   "display_name": "Python 3 (ipykernel)",
   "language": "python",
   "name": "python3"
  },
  "language_info": {
   "codemirror_mode": {
    "name": "ipython",
    "version": 3
   },
   "file_extension": ".py",
   "mimetype": "text/x-python",
   "name": "python",
   "nbconvert_exporter": "python",
   "pygments_lexer": "ipython3",
   "version": "3.10.4"
  }
 },
 "nbformat": 4,
 "nbformat_minor": 5
}
