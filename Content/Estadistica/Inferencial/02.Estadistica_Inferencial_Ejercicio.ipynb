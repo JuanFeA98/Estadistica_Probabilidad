{
 "cells": [
  {
   "cell_type": "markdown",
   "id": "79fccbe5-0ab3-41b7-9805-02f7bc55b723",
   "metadata": {},
   "source": [
    "# **Intervalos de confianza y prueba de hipótesis**"
   ]
  },
  {
   "cell_type": "markdown",
   "id": "54034149-d9d6-466b-b426-3e39ed20b95d",
   "metadata": {},
   "source": [
    "## **Librerias**"
   ]
  },
  {
   "cell_type": "code",
   "execution_count": 1,
   "id": "987786c7-6499-4653-a9ed-4ae511d702e6",
   "metadata": {},
   "outputs": [],
   "source": [
    "import pandas as pd\n",
    "import numpy as np\n",
    "import matplotlib.pyplot as plt\n",
    "import seaborn as sns"
   ]
  },
  {
   "cell_type": "markdown",
   "id": "8371d181-7cbc-4414-8b05-08666416ef92",
   "metadata": {},
   "source": [
    "## **Datos**"
   ]
  },
  {
   "cell_type": "code",
   "execution_count": 2,
   "id": "622c0a9d-d29f-414d-8cbe-51cd89b39d02",
   "metadata": {},
   "outputs": [],
   "source": [
    "iris = sns.load_dataset('iris')"
   ]
  },
  {
   "cell_type": "code",
   "execution_count": 3,
   "id": "292fce1e-7625-4f73-bf5d-bafaef6a22ac",
   "metadata": {},
   "outputs": [
    {
     "data": {
      "text/html": [
       "<div>\n",
       "<style scoped>\n",
       "    .dataframe tbody tr th:only-of-type {\n",
       "        vertical-align: middle;\n",
       "    }\n",
       "\n",
       "    .dataframe tbody tr th {\n",
       "        vertical-align: top;\n",
       "    }\n",
       "\n",
       "    .dataframe thead th {\n",
       "        text-align: right;\n",
       "    }\n",
       "</style>\n",
       "<table border=\"1\" class=\"dataframe\">\n",
       "  <thead>\n",
       "    <tr style=\"text-align: right;\">\n",
       "      <th></th>\n",
       "      <th>sepal_length</th>\n",
       "      <th>sepal_width</th>\n",
       "      <th>petal_length</th>\n",
       "      <th>petal_width</th>\n",
       "      <th>species</th>\n",
       "    </tr>\n",
       "  </thead>\n",
       "  <tbody>\n",
       "    <tr>\n",
       "      <th>0</th>\n",
       "      <td>5.1</td>\n",
       "      <td>3.5</td>\n",
       "      <td>1.4</td>\n",
       "      <td>0.2</td>\n",
       "      <td>setosa</td>\n",
       "    </tr>\n",
       "    <tr>\n",
       "      <th>1</th>\n",
       "      <td>4.9</td>\n",
       "      <td>3.0</td>\n",
       "      <td>1.4</td>\n",
       "      <td>0.2</td>\n",
       "      <td>setosa</td>\n",
       "    </tr>\n",
       "    <tr>\n",
       "      <th>2</th>\n",
       "      <td>4.7</td>\n",
       "      <td>3.2</td>\n",
       "      <td>1.3</td>\n",
       "      <td>0.2</td>\n",
       "      <td>setosa</td>\n",
       "    </tr>\n",
       "    <tr>\n",
       "      <th>3</th>\n",
       "      <td>4.6</td>\n",
       "      <td>3.1</td>\n",
       "      <td>1.5</td>\n",
       "      <td>0.2</td>\n",
       "      <td>setosa</td>\n",
       "    </tr>\n",
       "    <tr>\n",
       "      <th>4</th>\n",
       "      <td>5.0</td>\n",
       "      <td>3.6</td>\n",
       "      <td>1.4</td>\n",
       "      <td>0.2</td>\n",
       "      <td>setosa</td>\n",
       "    </tr>\n",
       "  </tbody>\n",
       "</table>\n",
       "</div>"
      ],
      "text/plain": [
       "   sepal_length  sepal_width  petal_length  petal_width species\n",
       "0           5.1          3.5           1.4          0.2  setosa\n",
       "1           4.9          3.0           1.4          0.2  setosa\n",
       "2           4.7          3.2           1.3          0.2  setosa\n",
       "3           4.6          3.1           1.5          0.2  setosa\n",
       "4           5.0          3.6           1.4          0.2  setosa"
      ]
     },
     "execution_count": 3,
     "metadata": {},
     "output_type": "execute_result"
    }
   ],
   "source": [
    "iris.head()"
   ]
  },
  {
   "cell_type": "markdown",
   "id": "2cdb6c15-28ed-45fa-b7d7-5aea2a18e18f",
   "metadata": {},
   "source": [
    "### **Estadísticas descriptivas**"
   ]
  },
  {
   "cell_type": "code",
   "execution_count": 4,
   "id": "361a06c6-e289-408f-80c7-54425e3f195c",
   "metadata": {},
   "outputs": [
    {
     "data": {
      "text/html": [
       "<div>\n",
       "<style scoped>\n",
       "    .dataframe tbody tr th:only-of-type {\n",
       "        vertical-align: middle;\n",
       "    }\n",
       "\n",
       "    .dataframe tbody tr th {\n",
       "        vertical-align: top;\n",
       "    }\n",
       "\n",
       "    .dataframe thead th {\n",
       "        text-align: right;\n",
       "    }\n",
       "</style>\n",
       "<table border=\"1\" class=\"dataframe\">\n",
       "  <thead>\n",
       "    <tr style=\"text-align: right;\">\n",
       "      <th></th>\n",
       "      <th>sepal_length</th>\n",
       "      <th>sepal_width</th>\n",
       "      <th>petal_length</th>\n",
       "      <th>petal_width</th>\n",
       "    </tr>\n",
       "  </thead>\n",
       "  <tbody>\n",
       "    <tr>\n",
       "      <th>count</th>\n",
       "      <td>150.000000</td>\n",
       "      <td>150.000000</td>\n",
       "      <td>150.000000</td>\n",
       "      <td>150.000000</td>\n",
       "    </tr>\n",
       "    <tr>\n",
       "      <th>mean</th>\n",
       "      <td>5.843333</td>\n",
       "      <td>3.057333</td>\n",
       "      <td>3.758000</td>\n",
       "      <td>1.199333</td>\n",
       "    </tr>\n",
       "    <tr>\n",
       "      <th>std</th>\n",
       "      <td>0.828066</td>\n",
       "      <td>0.435866</td>\n",
       "      <td>1.765298</td>\n",
       "      <td>0.762238</td>\n",
       "    </tr>\n",
       "    <tr>\n",
       "      <th>min</th>\n",
       "      <td>4.300000</td>\n",
       "      <td>2.000000</td>\n",
       "      <td>1.000000</td>\n",
       "      <td>0.100000</td>\n",
       "    </tr>\n",
       "    <tr>\n",
       "      <th>25%</th>\n",
       "      <td>5.100000</td>\n",
       "      <td>2.800000</td>\n",
       "      <td>1.600000</td>\n",
       "      <td>0.300000</td>\n",
       "    </tr>\n",
       "    <tr>\n",
       "      <th>50%</th>\n",
       "      <td>5.800000</td>\n",
       "      <td>3.000000</td>\n",
       "      <td>4.350000</td>\n",
       "      <td>1.300000</td>\n",
       "    </tr>\n",
       "    <tr>\n",
       "      <th>75%</th>\n",
       "      <td>6.400000</td>\n",
       "      <td>3.300000</td>\n",
       "      <td>5.100000</td>\n",
       "      <td>1.800000</td>\n",
       "    </tr>\n",
       "    <tr>\n",
       "      <th>max</th>\n",
       "      <td>7.900000</td>\n",
       "      <td>4.400000</td>\n",
       "      <td>6.900000</td>\n",
       "      <td>2.500000</td>\n",
       "    </tr>\n",
       "  </tbody>\n",
       "</table>\n",
       "</div>"
      ],
      "text/plain": [
       "       sepal_length  sepal_width  petal_length  petal_width\n",
       "count    150.000000   150.000000    150.000000   150.000000\n",
       "mean       5.843333     3.057333      3.758000     1.199333\n",
       "std        0.828066     0.435866      1.765298     0.762238\n",
       "min        4.300000     2.000000      1.000000     0.100000\n",
       "25%        5.100000     2.800000      1.600000     0.300000\n",
       "50%        5.800000     3.000000      4.350000     1.300000\n",
       "75%        6.400000     3.300000      5.100000     1.800000\n",
       "max        7.900000     4.400000      6.900000     2.500000"
      ]
     },
     "execution_count": 4,
     "metadata": {},
     "output_type": "execute_result"
    }
   ],
   "source": [
    "iris.describe()"
   ]
  },
  {
   "cell_type": "markdown",
   "id": "a296ad3a-328b-4b4a-a7aa-6977dcb96023",
   "metadata": {},
   "source": [
    "### **Inferencia Estadística - Intervalos de confianza**"
   ]
  },
  {
   "cell_type": "code",
   "execution_count": 5,
   "id": "32f85562-d236-4a62-b5d2-71908794cf5c",
   "metadata": {},
   "outputs": [
    {
     "data": {
      "text/html": [
       "<div>\n",
       "<style scoped>\n",
       "    .dataframe tbody tr th:only-of-type {\n",
       "        vertical-align: middle;\n",
       "    }\n",
       "\n",
       "    .dataframe tbody tr th {\n",
       "        vertical-align: top;\n",
       "    }\n",
       "\n",
       "    .dataframe thead th {\n",
       "        text-align: right;\n",
       "    }\n",
       "</style>\n",
       "<table border=\"1\" class=\"dataframe\">\n",
       "  <thead>\n",
       "    <tr style=\"text-align: right;\">\n",
       "      <th></th>\n",
       "      <th>sepal_length</th>\n",
       "      <th>sepal_width</th>\n",
       "      <th>petal_length</th>\n",
       "      <th>petal_width</th>\n",
       "      <th>species</th>\n",
       "    </tr>\n",
       "  </thead>\n",
       "  <tbody>\n",
       "    <tr>\n",
       "      <th>42</th>\n",
       "      <td>4.4</td>\n",
       "      <td>3.2</td>\n",
       "      <td>1.3</td>\n",
       "      <td>0.2</td>\n",
       "      <td>setosa</td>\n",
       "    </tr>\n",
       "  </tbody>\n",
       "</table>\n",
       "</div>"
      ],
      "text/plain": [
       "    sepal_length  sepal_width  petal_length  petal_width species\n",
       "42           4.4          3.2           1.3          0.2  setosa"
      ]
     },
     "execution_count": 5,
     "metadata": {},
     "output_type": "execute_result"
    }
   ],
   "source": [
    "iris.sample()"
   ]
  },
  {
   "cell_type": "code",
   "execution_count": 12,
   "id": "43662c64-7034-42d7-935d-9343247417dc",
   "metadata": {},
   "outputs": [],
   "source": [
    "versicolor_sepal_length = iris.query('species == \"versicolor\"')[['sepal_length']]"
   ]
  },
  {
   "cell_type": "code",
   "execution_count": 17,
   "id": "8a9f9489-1e05-445d-9b51-ebf7ea2ac66c",
   "metadata": {},
   "outputs": [
    {
     "data": {
      "image/png": "[encoded data removed]",
      "text/plain": [
       "<Figure size 432x288 with 1 Axes>"
      ]
     },
     "metadata": {
      "needs_background": "light"
     },
     "output_type": "display_data"
    }
   ],
   "source": [
    "sns.boxplot(data=versicolor_sepal_length, x='sepal_length')\n",
    "plt.xlabel('Longitud del sépalo')\n",
    "plt.title('Longitud del sépalo de iris versicolor')\n",
    "plt.show()"
   ]
  },
  {
   "cell_type": "code",
   "execution_count": 19,
   "id": "7126c069-939f-4f26-a392-58da373de53e",
   "metadata": {},
   "outputs": [
    {
     "data": {
      "text/html": [
       "<div>\n",
       "<style scoped>\n",
       "    .dataframe tbody tr th:only-of-type {\n",
       "        vertical-align: middle;\n",
       "    }\n",
       "\n",
       "    .dataframe tbody tr th {\n",
       "        vertical-align: top;\n",
       "    }\n",
       "\n",
       "    .dataframe thead th {\n",
       "        text-align: right;\n",
       "    }\n",
       "</style>\n",
       "<table border=\"1\" class=\"dataframe\">\n",
       "  <thead>\n",
       "    <tr style=\"text-align: right;\">\n",
       "      <th></th>\n",
       "      <th>sepal_length</th>\n",
       "    </tr>\n",
       "  </thead>\n",
       "  <tbody>\n",
       "    <tr>\n",
       "      <th>count</th>\n",
       "      <td>50.000000</td>\n",
       "    </tr>\n",
       "    <tr>\n",
       "      <th>mean</th>\n",
       "      <td>5.936000</td>\n",
       "    </tr>\n",
       "    <tr>\n",
       "      <th>std</th>\n",
       "      <td>0.516171</td>\n",
       "    </tr>\n",
       "    <tr>\n",
       "      <th>min</th>\n",
       "      <td>4.900000</td>\n",
       "    </tr>\n",
       "    <tr>\n",
       "      <th>25%</th>\n",
       "      <td>5.600000</td>\n",
       "    </tr>\n",
       "    <tr>\n",
       "      <th>50%</th>\n",
       "      <td>5.900000</td>\n",
       "    </tr>\n",
       "    <tr>\n",
       "      <th>75%</th>\n",
       "      <td>6.300000</td>\n",
       "    </tr>\n",
       "    <tr>\n",
       "      <th>max</th>\n",
       "      <td>7.000000</td>\n",
       "    </tr>\n",
       "  </tbody>\n",
       "</table>\n",
       "</div>"
      ],
      "text/plain": [
       "       sepal_length\n",
       "count     50.000000\n",
       "mean       5.936000\n",
       "std        0.516171\n",
       "min        4.900000\n",
       "25%        5.600000\n",
       "50%        5.900000\n",
       "75%        6.300000\n",
       "max        7.000000"
      ]
     },
     "execution_count": 19,
     "metadata": {},
     "output_type": "execute_result"
    }
   ],
   "source": [
    "versicolor_sepal_length.describe()"
   ]
  },
  {
   "cell_type": "markdown",
   "id": "7929b32f-ea48-4e7d-8106-ba250a9d4d15",
   "metadata": {},
   "source": [
    "#### **Bootstraping**"
   ]
  },
  {
   "cell_type": "markdown",
   "id": "6fbc190d-8f6c-48bd-840b-21cf56fb1c3f",
   "metadata": {},
   "source": [
    "Ahora usaremos la media como estadístico y procedemos a buscar su valor en la población total.\n",
    "\n",
    "El **bootstraping** consiste en escoger valores aleatorios de la muestra y reemplazarlos, creando nuevos arrays. A estos nuevos arrays se les aplica el estadístico que estamos buscando (la media en nuestro caso)."
   ]
  },
  {
   "cell_type": "code",
   "execution_count": 22,
   "id": "08a7245c-3cb2-4716-b6e5-e91644940928",
   "metadata": {},
   "outputs": [],
   "source": [
    "def bootstrap_replicate_1d(data, func):\n",
    "    # Generar replicas de los datos\n",
    "    bs_sample = np.random.choice(data, len(data))\n",
    "    return func(bs_sample)\n",
    "\n",
    "def draw_bs_resp(data, func, size=1):\n",
    "    # Obtener replicas con bootstrap\n",
    "    bs_replicate = np.empty(size)\n",
    "    \n",
    "    # Generar replicas\n",
    "    for i in range(size):\n",
    "        bs_replicate[i] = bootstrap_replicate_1d(data, func)\n",
    "        \n",
    "    return bs_replicate"
   ]
  },
  {
   "cell_type": "markdown",
   "id": "fabe58c4-96ee-4bb5-b54b-1a8ab3453e86",
   "metadata": {},
   "source": [
    "Con esto, procedemos a “repetir el experimento” de recoger datos sobre Iris Versicolor 10000 veces y luego computar la media."
   ]
  },
  {
   "cell_type": "code",
   "execution_count": 25,
   "id": "556ebf4d-5aae-40f3-a545-1908b84d4cae",
   "metadata": {},
   "outputs": [],
   "source": [
    "vers_replicates = draw_bs_resp(versicolor_sepal_length['sepal_length'], np.mean, size=10000)"
   ]
  },
  {
   "cell_type": "markdown",
   "id": "3b24db07-1c07-4237-8be0-58d18c520144",
   "metadata": {},
   "source": [
    "Ahora calculamos los intervalos de confianzo a partir de este array"
   ]
  },
  {
   "cell_type": "code",
   "execution_count": null,
   "id": "702d8bef-d494-4f01-a955-d1970fd41650",
   "metadata": {},
   "outputs": [],
   "source": [
    "ci = np.percentile(vers_replicates, [2.5, 97.5])"
   ]
  },
  {
   "cell_type": "code",
   "execution_count": 39,
   "id": "47541a7e-1966-40c4-bd99-735163a68d84",
   "metadata": {},
   "outputs": [
    {
     "data": {
      "text/plain": [
       "array([5.794, 6.078])"
      ]
     },
     "execution_count": 39,
     "metadata": {},
     "output_type": "execute_result"
    }
   ],
   "source": [
    "ci"
   ]
  },
  {
   "cell_type": "code",
   "execution_count": 45,
   "id": "165bd366-0239-4638-86df-8fcbdd43bbda",
   "metadata": {},
   "outputs": [
    {
     "data": {
      "image/png": "[encoded data removed]",
      "text/plain": [
       "<Figure size 432x288 with 1 Axes>"
      ]
     },
     "metadata": {
      "needs_background": "light"
     },
     "output_type": "display_data"
    }
   ],
   "source": [
    "plt.hist(vers_replicates, bins=20)\n",
    "plt.xlabel('Longitud del sépalo, mm')\n",
    "plt.ylabel('Frecuencias')\n",
    "plt.title('Réplicas bootstrap de las medias')\n",
    "\n",
    "plt.axvline(x=ci[0])\n",
    "plt.axvline(x=ci[1])\n",
    "\n",
    "plt.fill_between([ci[0], ci[1]], 1700, alpha=0.6)\n",
    "\n",
    "plt.show()"
   ]
  },
  {
   "cell_type": "markdown",
   "id": "7a6539a5-2251-487c-8c9b-18de72c9496b",
   "metadata": {},
   "source": [
    "### **Inferencia Estadística - Prueba de hipótesis**"
   ]
  },
  {
   "cell_type": "markdown",
   "id": "f5b47e4c-eeda-4eea-8a62-75d92542accf",
   "metadata": {},
   "source": [
    "- **Hipótesis nula →** La hipótesis nula es que la diferencia observada se debe únicamente al azar.\n",
    "\n",
    "- **Estadístico de prueba →** Un número computado a partir de los datos observados y de los datos simulados. Es para hacer una comparación.\n",
    "\n",
    "- **Significancia estadística →** Cuando hacemos una prueba de hipótesis, buscamos significancia estadística para aceptar o rechazar. Un resultado tiene significancia estadística cuando este tiene poca probabilidad de haber ocurrido dada la hipótesis nula. Para esto usamos el valor p.\n",
    "\n",
    "- **Valor p →** Es la probabilidad de obtener un valor que sea al menos tan extremo como el observado, considerando que la hipótesis nula sea verdadera. Para que exista significancia, el valor p debe ser menor que 0.05, o en otros casos, menor que 0.01."
   ]
  },
  {
   "cell_type": "code",
   "execution_count": 62,
   "id": "18d0f4dc-2788-47dc-a337-8a6cf03f7f4d",
   "metadata": {},
   "outputs": [
    {
     "data": {
      "image/png": "[encoded data removed]",
      "text/plain": [
       "<Figure size 432x288 with 1 Axes>"
      ]
     },
     "metadata": {
      "needs_background": "light"
     },
     "output_type": "display_data"
    }
   ],
   "source": [
    "sns.boxplot(data=iris, x='species', y='sepal_length')\n",
    "plt.ylabel('Longitud del sépalo')\n",
    "plt.title('Longitud del sépalo por especie')\n",
    "plt.show()"
   ]
  },
  {
   "cell_type": "markdown",
   "id": "c5c9a349-4efb-4f7a-a2f6-a06c6db384b2",
   "metadata": {},
   "source": [
    "No es del todo correcto concluir que el promedio del largo de sépalo Virginica es mayor que el largo de sépalo de Versicolor, porque esto es solo una muestra y los resultados pudieron ser solo por casualidad.\n",
    "\n",
    "Por lo tanto, realizaremos un ejercicio de prueba de hipótesis usando Bootstrapping. Vamos a probar estadísticamente que esto no es pura coincidencia. "
   ]
  },
  {
   "cell_type": "markdown",
   "id": "9df86406-9c2b-444a-883b-b4df97180568",
   "metadata": {},
   "source": [
    "#### **Prueba de hipótesis**\n",
    "\n",
    "**Hipótesis Nula:** No existe diferencia entre el promedio de longitud del sépalo de virginica y versicolor"
   ]
  },
  {
   "cell_type": "code",
   "execution_count": 84,
   "id": "54ab39d7-0086-47f8-ac13-15df25efd4e0",
   "metadata": {},
   "outputs": [],
   "source": [
    "versicolor_sepal_length = iris.query('species == \"versicolor\"')['sepal_length']\n",
    "virginica_sepal_length = iris.query('species == \"virginica\"')['sepal_length']"
   ]
  },
  {
   "cell_type": "code",
   "execution_count": 85,
   "id": "c288adce-e865-4a96-993d-4726cd39d969",
   "metadata": {},
   "outputs": [
    {
     "data": {
      "text/plain": [
       "0.6519999999999984"
      ]
     },
     "execution_count": 85,
     "metadata": {},
     "output_type": "execute_result"
    }
   ],
   "source": [
    "# Ahora, obtenemos la diferencia entre las medias observadas.\n",
    "observed_diff_means = (np.mean(virginica_sepal_length.values) - np.mean(versicolor_sepal_length.values))\n",
    "observed_diff_means"
   ]
  },
  {
   "cell_type": "markdown",
   "id": "ce839f5c-2854-4755-9d09-c64bbfc131ce",
   "metadata": {},
   "source": [
    "El siguiente paso es mover ambos arrays para que tengan la misma media, dado que estamos simulando una hipótesis donde sus medias son iguales. Para esto:\n",
    "\n",
    "- Concatenamos los arrays y obtenemos su media.\n",
    "- Extraemos la media propia del array y agregamos la media de los datos concatenados."
   ]
  },
  {
   "cell_type": "code",
   "execution_count": 86,
   "id": "210e2a55-466c-4544-875b-ef78bd483598",
   "metadata": {},
   "outputs": [],
   "source": [
    "versicolor_virgnico_concatenated = np.concatenate((versicolor_sepal_length.values, virginica_sepal_length.values))\n",
    "mean_length = np.mean(versicolor_virgnico_concatenated)"
   ]
  },
  {
   "cell_type": "code",
   "execution_count": 87,
   "id": "bc5b3677-3ecf-4521-a26c-34d802c165f8",
   "metadata": {},
   "outputs": [],
   "source": [
    "versicolor_shifted = versicolor_sepal_length.values - np.mean(versicolor_sepal_length.values) + mean_length\n",
    "virginica_shifted = virginica_sepal_length.values - np.mean(virginica_sepal_length.values) + mean_length"
   ]
  },
  {
   "cell_type": "markdown",
   "id": "17adf67f-b8e5-419e-b355-8524cce242c5",
   "metadata": {},
   "source": [
    "Simulamos 100000 muestras para ambos arrays a las que les computamos la media."
   ]
  },
  {
   "cell_type": "code",
   "execution_count": 89,
   "id": "6d172393-7ae9-4590-a57f-bdb68a55cd32",
   "metadata": {},
   "outputs": [],
   "source": [
    "bs_replicate_versicolor = draw_bs_resp(versicolor_shifted, np.mean, size=100000) \n",
    "bs_replicate_virginica = draw_bs_resp(virginica_shifted, np.mean, size=100000)"
   ]
  },
  {
   "cell_type": "markdown",
   "id": "2d462564-f00b-4777-a2d7-9f7a66af7362",
   "metadata": {},
   "source": [
    "Calculamos el estadístico de prueba que es la diferencia de medias:"
   ]
  },
  {
   "cell_type": "code",
   "execution_count": 90,
   "id": "21098e47-249d-4210-896b-09a1977161bd",
   "metadata": {},
   "outputs": [],
   "source": [
    "bs_replicate = bs_replicate_virginica - bs_replicate_versicolor"
   ]
  },
  {
   "cell_type": "code",
   "execution_count": 96,
   "id": "24ba5796-9c2c-4e2e-8245-ba6314dd4891",
   "metadata": {},
   "outputs": [
    {
     "data": {
      "text/plain": [
       "0.6519999999999984"
      ]
     },
     "execution_count": 96,
     "metadata": {},
     "output_type": "execute_result"
    }
   ],
   "source": [
    "observed_diff_means"
   ]
  },
  {
   "cell_type": "code",
   "execution_count": 109,
   "id": "a038007c-e1a7-467c-8daf-54d6ea7c92c1",
   "metadata": {},
   "outputs": [
    {
     "data": {
      "image/png": "[encoded data removed]",
      "text/plain": [
       "<Figure size 432x288 with 1 Axes>"
      ]
     },
     "metadata": {
      "needs_background": "light"
     },
     "output_type": "display_data"
    }
   ],
   "source": [
    "plt.hist(bs_replicate)\n",
    "\n",
    "plt.axvline(x=observed_diff_means, linestyle='--', color='red')\n",
    "plt.fill_between([observed_diff_means, 0.9], 35000, alpha=0.6)\n",
    "plt.text(0.7, 20000, 'p-value')\n",
    "\n",
    "plt.title('Distribución de diferencia de medias', size=13, fontweight=700)\n",
    "plt.xlabel('Diferencia de medias')\n",
    "plt.ylabel('Frecuencia')\n",
    "\n",
    "plt.show()"
   ]
  },
  {
   "cell_type": "markdown",
   "id": "db473102-1b1b-4eda-828b-68e12fc0f9df",
   "metadata": {},
   "source": [
    "El valor p se ubica en el extremo derecho de nuestra distribución. Lo calculamos y sacamos una conclusión a partir de esto."
   ]
  },
  {
   "cell_type": "code",
   "execution_count": 110,
   "id": "d3d5a4a2-13c8-455c-a56c-15db4eb24963",
   "metadata": {},
   "outputs": [
    {
     "data": {
      "text/plain": [
       "0.0"
      ]
     },
     "execution_count": 110,
     "metadata": {},
     "output_type": "execute_result"
    }
   ],
   "source": [
    "p = np.sum(bs_replicate >= observed_diff_means) / 100000\n",
    "p"
   ]
  },
  {
   "cell_type": "markdown",
   "id": "5b2151fb-7d06-4943-b6f0-d81736e2e0a2",
   "metadata": {},
   "source": [
    "Obtenemos un valor p igual a 0! Esto es **valor p < 0.005** lo que nos da significancia para no aceptar la hipótesis de que no existe diferencia entre el promedio de longitud de sépalo de Virginica y Versicolor. Por lo tanto, las diferencias observadas no son debidas al azar."
   ]
  }
 ],
 "metadata": {
  "kernelspec": {
   "display_name": "Python 3 (ipykernel)",
   "language": "python",
   "name": "python3"
  },
  "language_info": {
   "codemirror_mode": {
    "name": "ipython",
    "version": 3
   },
   "file_extension": ".py",
   "mimetype": "text/x-python",
   "name": "python",
   "nbconvert_exporter": "python",
   "pygments_lexer": "ipython3",
   "version": "3.10.4"
  }
 },
 "nbformat": 4,
 "nbformat_minor": 5
}
