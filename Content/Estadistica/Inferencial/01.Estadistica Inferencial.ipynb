{
 "cells": [
  {
   "cell_type": "markdown",
   "id": "9560c58b-9591-4968-87ed-9ec6cda4e051",
   "metadata": {},
   "source": [
    "<h1 style='text-align:center; font-weight:1000'>\n",
    "    Estadística Inferencial\n",
    "</h1>"
   ]
  },
  {
   "cell_type": "markdown",
   "id": "dacf92c3-85c4-4be7-b6cd-9335ee9edd33",
   "metadata": {},
   "source": [
    "## **Librerias**"
   ]
  },
  {
   "cell_type": "code",
   "execution_count": 1,
   "id": "65aecd13-1af6-4fd0-855d-fc1591b630a8",
   "metadata": {},
   "outputs": [],
   "source": [
    "import pandas as pd\n",
    "import numpy as np\n",
    "import matplotlib.pyplot as plt\n",
    "import seaborn as sns"
   ]
  },
  {
   "cell_type": "code",
   "execution_count": 2,
   "id": "1810a798-f601-4372-bf4b-b2bb842fa621",
   "metadata": {},
   "outputs": [],
   "source": [
    "pd.options.display.max_columns = False"
   ]
  },
  {
   "cell_type": "code",
   "execution_count": 3,
   "id": "c6359537-3947-47bd-b691-886b56044cae",
   "metadata": {},
   "outputs": [],
   "source": [
    "from scipy import stats"
   ]
  },
  {
   "cell_type": "code",
   "execution_count": 195,
   "id": "38860ff6-7063-491b-b2b8-900d62f997d7",
   "metadata": {},
   "outputs": [],
   "source": [
    "from sklearn.model_selection import train_test_split, KFold, cross_val_score\n",
    "\n",
    "from sklearn.tree import DecisionTreeClassifier"
   ]
  },
  {
   "cell_type": "markdown",
   "id": "008ad0c1-fad0-4ca5-8bfc-cb771e3ea177",
   "metadata": {},
   "source": [
    "## **1. Funciones de muestreo**"
   ]
  },
  {
   "cell_type": "code",
   "execution_count": 4,
   "id": "405aefbd-0fec-44d9-871a-8d8a3ebb4d65",
   "metadata": {},
   "outputs": [],
   "source": [
    "df = pd.read_csv('Data/econdata.csv')"
   ]
  },
  {
   "cell_type": "code",
   "execution_count": 5,
   "id": "e850e393-66ed-4e69-9946-33bfc693eb58",
   "metadata": {},
   "outputs": [
    {
     "data": {
      "text/html": [
       "<div>\n",
       "<style scoped>\n",
       "    .dataframe tbody tr th:only-of-type {\n",
       "        vertical-align: middle;\n",
       "    }\n",
       "\n",
       "    .dataframe tbody tr th {\n",
       "        vertical-align: top;\n",
       "    }\n",
       "\n",
       "    .dataframe thead th {\n",
       "        text-align: right;\n",
       "    }\n",
       "</style>\n",
       "<table border=\"1\" class=\"dataframe\">\n",
       "  <thead>\n",
       "    <tr style=\"text-align: right;\">\n",
       "      <th></th>\n",
       "      <th>id</th>\n",
       "      <th>geo_point_2d</th>\n",
       "      <th>geo_shape</th>\n",
       "      <th>clave_cat</th>\n",
       "      <th>delegacion</th>\n",
       "      <th>perimetro</th>\n",
       "      <th>tipo</th>\n",
       "      <th>nom_id</th>\n",
       "    </tr>\n",
       "  </thead>\n",
       "  <tbody>\n",
       "    <tr>\n",
       "      <th>0</th>\n",
       "      <td>0</td>\n",
       "      <td>19.424781053,-99.1327537959</td>\n",
       "      <td>{\"type\": \"Polygon\", \"coordinates\": [[[-99.1332...</td>\n",
       "      <td>307_130_11</td>\n",
       "      <td>Cuauhtémoc</td>\n",
       "      <td>B</td>\n",
       "      <td>Mercado</td>\n",
       "      <td>Pino Suárez</td>\n",
       "    </tr>\n",
       "  </tbody>\n",
       "</table>\n",
       "</div>"
      ],
      "text/plain": [
       "   id                 geo_point_2d                                          geo_shape  ... perimetro     tipo       nom_id\n",
       "0   0  19.424781053,-99.1327537959  {\"type\": \"Polygon\", \"coordinates\": [[[-99.1332...  ...         B  Mercado  Pino Suárez\n",
       "\n",
       "[1 rows x 8 columns]"
      ]
     },
     "execution_count": 5,
     "metadata": {},
     "output_type": "execute_result"
    }
   ],
   "source": [
    "df.head(1)"
   ]
  },
  {
   "cell_type": "markdown",
   "id": "78927833-b5a1-43ee-8fd1-06242cce6ab7",
   "metadata": {},
   "source": [
    "### **1.1 Muestreo aleatorio simple**"
   ]
  },
  {
   "cell_type": "code",
   "execution_count": 6,
   "id": "ec6cc613-3f1f-45ab-ab1a-a6774e2b41f8",
   "metadata": {},
   "outputs": [
    {
     "data": {
      "text/html": [
       "<div>\n",
       "<style scoped>\n",
       "    .dataframe tbody tr th:only-of-type {\n",
       "        vertical-align: middle;\n",
       "    }\n",
       "\n",
       "    .dataframe tbody tr th {\n",
       "        vertical-align: top;\n",
       "    }\n",
       "\n",
       "    .dataframe thead th {\n",
       "        text-align: right;\n",
       "    }\n",
       "</style>\n",
       "<table border=\"1\" class=\"dataframe\">\n",
       "  <thead>\n",
       "    <tr style=\"text-align: right;\">\n",
       "      <th></th>\n",
       "      <th>id</th>\n",
       "      <th>geo_point_2d</th>\n",
       "      <th>geo_shape</th>\n",
       "      <th>clave_cat</th>\n",
       "      <th>delegacion</th>\n",
       "      <th>perimetro</th>\n",
       "      <th>tipo</th>\n",
       "      <th>nom_id</th>\n",
       "    </tr>\n",
       "  </thead>\n",
       "  <tbody>\n",
       "    <tr>\n",
       "      <th>0</th>\n",
       "      <td>0</td>\n",
       "      <td>19.424781053,-99.1327537959</td>\n",
       "      <td>{\"type\": \"Polygon\", \"coordinates\": [[[-99.1332...</td>\n",
       "      <td>307_130_11</td>\n",
       "      <td>Cuauhtémoc</td>\n",
       "      <td>B</td>\n",
       "      <td>Mercado</td>\n",
       "      <td>Pino Suárez</td>\n",
       "    </tr>\n",
       "    <tr>\n",
       "      <th>150</th>\n",
       "      <td>150</td>\n",
       "      <td>19.440448428,-99.1365429261</td>\n",
       "      <td>{\"type\": \"MultiPoint\", \"coordinates\": [[-99.13...</td>\n",
       "      <td>004_065_10</td>\n",
       "      <td>Cuautémoc</td>\n",
       "      <td>B</td>\n",
       "      <td>Hotel</td>\n",
       "      <td>Moderno</td>\n",
       "    </tr>\n",
       "    <tr>\n",
       "      <th>72</th>\n",
       "      <td>72</td>\n",
       "      <td>19.4454901265,-99.1471012862</td>\n",
       "      <td>{\"type\": \"MultiPoint\", \"coordinates\": [[-99.14...</td>\n",
       "      <td>003_046_14</td>\n",
       "      <td>Cuautémoc</td>\n",
       "      <td>B</td>\n",
       "      <td>Hotel</td>\n",
       "      <td>Atoyac</td>\n",
       "    </tr>\n",
       "    <tr>\n",
       "      <th>104</th>\n",
       "      <td>104</td>\n",
       "      <td>19.43397933,-99.13044075</td>\n",
       "      <td>{\"type\": \"MultiPoint\", \"coordinates\": [[-99.13...</td>\n",
       "      <td>006_002_12</td>\n",
       "      <td>Cuautémoc</td>\n",
       "      <td>A</td>\n",
       "      <td>Hotel</td>\n",
       "      <td>Palacio</td>\n",
       "    </tr>\n",
       "    <tr>\n",
       "      <th>226</th>\n",
       "      <td>226</td>\n",
       "      <td>19.4416748524,-99.1365878489</td>\n",
       "      <td>{\"type\": \"Polygon\", \"coordinates\": [[[-99.1370...</td>\n",
       "      <td>004_052_01</td>\n",
       "      <td>Cuauhtémoc</td>\n",
       "      <td>B</td>\n",
       "      <td>Mercado</td>\n",
       "      <td>De Muebles</td>\n",
       "    </tr>\n",
       "    <tr>\n",
       "      <th>33</th>\n",
       "      <td>33</td>\n",
       "      <td>19.4341938751,-99.1352210651</td>\n",
       "      <td>{\"type\": \"MultiPoint\", \"coordinates\": [[-99.13...</td>\n",
       "      <td>001_007_04</td>\n",
       "      <td>Cuautémoc</td>\n",
       "      <td>A</td>\n",
       "      <td>Hotel</td>\n",
       "      <td>Washingtonw</td>\n",
       "    </tr>\n",
       "    <tr>\n",
       "      <th>117</th>\n",
       "      <td>117</td>\n",
       "      <td>19.4253041176,-99.1405962735</td>\n",
       "      <td>{\"type\": \"MultiPoint\", \"coordinates\": [[-99.14...</td>\n",
       "      <td>001_078_03</td>\n",
       "      <td>Cuautémoc</td>\n",
       "      <td>B</td>\n",
       "      <td>Hotel</td>\n",
       "      <td>Mazatlán</td>\n",
       "    </tr>\n",
       "    <tr>\n",
       "      <th>182</th>\n",
       "      <td>182</td>\n",
       "      <td>19.42407591,-99.1424737531</td>\n",
       "      <td>{\"type\": \"MultiPoint\", \"coordinates\": [[-99.14...</td>\n",
       "      <td>001_094_26</td>\n",
       "      <td>Cuautémoc</td>\n",
       "      <td>B</td>\n",
       "      <td>Hotel</td>\n",
       "      <td>Macao</td>\n",
       "    </tr>\n",
       "  </tbody>\n",
       "</table>\n",
       "</div>"
      ],
      "text/plain": [
       "      id                  geo_point_2d                                          geo_shape  ... perimetro     tipo       nom_id\n",
       "0      0   19.424781053,-99.1327537959  {\"type\": \"Polygon\", \"coordinates\": [[[-99.1332...  ...         B  Mercado  Pino Suárez\n",
       "150  150   19.440448428,-99.1365429261  {\"type\": \"MultiPoint\", \"coordinates\": [[-99.13...  ...         B    Hotel      Moderno\n",
       "72    72  19.4454901265,-99.1471012862  {\"type\": \"MultiPoint\", \"coordinates\": [[-99.14...  ...         B    Hotel       Atoyac\n",
       "104  104      19.43397933,-99.13044075  {\"type\": \"MultiPoint\", \"coordinates\": [[-99.13...  ...         A    Hotel      Palacio\n",
       "226  226  19.4416748524,-99.1365878489  {\"type\": \"Polygon\", \"coordinates\": [[[-99.1370...  ...         B  Mercado   De Muebles\n",
       "33    33  19.4341938751,-99.1352210651  {\"type\": \"MultiPoint\", \"coordinates\": [[-99.13...  ...         A    Hotel  Washingtonw\n",
       "117  117  19.4253041176,-99.1405962735  {\"type\": \"MultiPoint\", \"coordinates\": [[-99.14...  ...         B    Hotel     Mazatlán\n",
       "182  182    19.42407591,-99.1424737531  {\"type\": \"MultiPoint\", \"coordinates\": [[-99.14...  ...         B    Hotel        Macao\n",
       "\n",
       "[8 rows x 8 columns]"
      ]
     },
     "execution_count": 6,
     "metadata": {},
     "output_type": "execute_result"
    }
   ],
   "source": [
    "df.sample(8)"
   ]
  },
  {
   "cell_type": "markdown",
   "id": "36100ca3-9595-4c93-9fc0-030e7ecc9311",
   "metadata": {},
   "source": [
    "### **1.2 Muestreo sistemático**"
   ]
  },
  {
   "cell_type": "code",
   "execution_count": 7,
   "id": "5b78a507-4cba-439c-8aa1-376db335d206",
   "metadata": {},
   "outputs": [
    {
     "data": {
      "text/html": [
       "<div>\n",
       "<style scoped>\n",
       "    .dataframe tbody tr th:only-of-type {\n",
       "        vertical-align: middle;\n",
       "    }\n",
       "\n",
       "    .dataframe tbody tr th {\n",
       "        vertical-align: top;\n",
       "    }\n",
       "\n",
       "    .dataframe thead th {\n",
       "        text-align: right;\n",
       "    }\n",
       "</style>\n",
       "<table border=\"1\" class=\"dataframe\">\n",
       "  <thead>\n",
       "    <tr style=\"text-align: right;\">\n",
       "      <th></th>\n",
       "      <th>id</th>\n",
       "      <th>geo_point_2d</th>\n",
       "      <th>geo_shape</th>\n",
       "      <th>clave_cat</th>\n",
       "      <th>delegacion</th>\n",
       "      <th>perimetro</th>\n",
       "      <th>tipo</th>\n",
       "      <th>nom_id</th>\n",
       "    </tr>\n",
       "  </thead>\n",
       "  <tbody>\n",
       "    <tr>\n",
       "      <th>0</th>\n",
       "      <td>0</td>\n",
       "      <td>19.424781053,-99.1327537959</td>\n",
       "      <td>{\"type\": \"Polygon\", \"coordinates\": [[[-99.1332...</td>\n",
       "      <td>307_130_11</td>\n",
       "      <td>Cuauhtémoc</td>\n",
       "      <td>B</td>\n",
       "      <td>Mercado</td>\n",
       "      <td>Pino Suárez</td>\n",
       "    </tr>\n",
       "    <tr>\n",
       "      <th>3</th>\n",
       "      <td>3</td>\n",
       "      <td>19.42489472,-99.12073393</td>\n",
       "      <td>{\"type\": \"MultiPoint\", \"coordinates\": [[-99.12...</td>\n",
       "      <td>323_102_06</td>\n",
       "      <td>Venustiano Carranza</td>\n",
       "      <td>B</td>\n",
       "      <td>Hotel</td>\n",
       "      <td>Balbuena</td>\n",
       "    </tr>\n",
       "    <tr>\n",
       "      <th>6</th>\n",
       "      <td>6</td>\n",
       "      <td>19.43553422,-99.12324801</td>\n",
       "      <td>{\"type\": \"MultiPoint\", \"coordinates\": [[-99.12...</td>\n",
       "      <td>318_116_11</td>\n",
       "      <td>Venustiano Carranza</td>\n",
       "      <td>B</td>\n",
       "      <td>Hotel</td>\n",
       "      <td>San Antonio Tomatlan</td>\n",
       "    </tr>\n",
       "    <tr>\n",
       "      <th>9</th>\n",
       "      <td>9</td>\n",
       "      <td>19.4407152937,-99.1498060057</td>\n",
       "      <td>{\"type\": \"MultiPoint\", \"coordinates\": [[-99.14...</td>\n",
       "      <td>012_146_22</td>\n",
       "      <td>Cuautémoc</td>\n",
       "      <td>B</td>\n",
       "      <td>Hotel</td>\n",
       "      <td>Detroit</td>\n",
       "    </tr>\n",
       "    <tr>\n",
       "      <th>12</th>\n",
       "      <td>12</td>\n",
       "      <td>19.43990186,-99.14813347</td>\n",
       "      <td>{\"type\": \"MultiPoint\", \"coordinates\": [[-99.14...</td>\n",
       "      <td>003_079_16</td>\n",
       "      <td>Cuautémoc</td>\n",
       "      <td>B</td>\n",
       "      <td>Hotel</td>\n",
       "      <td>La Paz</td>\n",
       "    </tr>\n",
       "    <tr>\n",
       "      <th>...</th>\n",
       "      <td>...</td>\n",
       "      <td>...</td>\n",
       "      <td>...</td>\n",
       "      <td>...</td>\n",
       "      <td>...</td>\n",
       "      <td>...</td>\n",
       "      <td>...</td>\n",
       "      <td>...</td>\n",
       "    </tr>\n",
       "    <tr>\n",
       "      <th>216</th>\n",
       "      <td>216</td>\n",
       "      <td>19.4247697438,-99.1249707246</td>\n",
       "      <td>{\"type\": \"Polygon\", \"coordinates\": [[[-99.1250...</td>\n",
       "      <td>323_118_37</td>\n",
       "      <td>Venustiano Carranza</td>\n",
       "      <td>B</td>\n",
       "      <td>Mercado</td>\n",
       "      <td>Lamininas de La Merced</td>\n",
       "    </tr>\n",
       "    <tr>\n",
       "      <th>219</th>\n",
       "      <td>219</td>\n",
       "      <td>19.4234096295,-99.1438351156</td>\n",
       "      <td>{\"type\": \"MultiPoint\", \"coordinates\": [[-99.14...</td>\n",
       "      <td>002_118_03</td>\n",
       "      <td>Cuautémoc</td>\n",
       "      <td>B</td>\n",
       "      <td>Hotel</td>\n",
       "      <td>Prado Floresta</td>\n",
       "    </tr>\n",
       "    <tr>\n",
       "      <th>222</th>\n",
       "      <td>222</td>\n",
       "      <td>19.4397905042,-99.134628735</td>\n",
       "      <td>{\"type\": \"MultiPoint\", \"coordinates\": [[-99.13...</td>\n",
       "      <td>004_063_10</td>\n",
       "      <td>Cuautémoc</td>\n",
       "      <td>A</td>\n",
       "      <td>Hotel</td>\n",
       "      <td>Ladero</td>\n",
       "    </tr>\n",
       "    <tr>\n",
       "      <th>225</th>\n",
       "      <td>225</td>\n",
       "      <td>19.43094655,-99.12455418</td>\n",
       "      <td>{\"type\": \"MultiPoint\", \"coordinates\": [[-99.12...</td>\n",
       "      <td>323_027_04</td>\n",
       "      <td>Venustiano Carranza</td>\n",
       "      <td>B</td>\n",
       "      <td>Hotel</td>\n",
       "      <td>Gran Veracruz</td>\n",
       "    </tr>\n",
       "    <tr>\n",
       "      <th>228</th>\n",
       "      <td>228</td>\n",
       "      <td>19.4406567734,-99.1394531646</td>\n",
       "      <td>{\"type\": \"MultiPoint\", \"coordinates\": [[-99.13...</td>\n",
       "      <td>004_069_01</td>\n",
       "      <td>Cuautémoc</td>\n",
       "      <td>B</td>\n",
       "      <td>Museo</td>\n",
       "      <td>Tequila y Mescal</td>\n",
       "    </tr>\n",
       "  </tbody>\n",
       "</table>\n",
       "<p>77 rows × 8 columns</p>\n",
       "</div>"
      ],
      "text/plain": [
       "      id                  geo_point_2d                                          geo_shape  ... perimetro     tipo                  nom_id\n",
       "0      0   19.424781053,-99.1327537959  {\"type\": \"Polygon\", \"coordinates\": [[[-99.1332...  ...         B  Mercado             Pino Suárez\n",
       "3      3      19.42489472,-99.12073393  {\"type\": \"MultiPoint\", \"coordinates\": [[-99.12...  ...         B    Hotel                Balbuena\n",
       "6      6      19.43553422,-99.12324801  {\"type\": \"MultiPoint\", \"coordinates\": [[-99.12...  ...         B    Hotel    San Antonio Tomatlan\n",
       "9      9  19.4407152937,-99.1498060057  {\"type\": \"MultiPoint\", \"coordinates\": [[-99.14...  ...         B    Hotel                 Detroit\n",
       "12    12      19.43990186,-99.14813347  {\"type\": \"MultiPoint\", \"coordinates\": [[-99.14...  ...         B    Hotel                  La Paz\n",
       "..   ...                           ...                                                ...  ...       ...      ...                     ...\n",
       "216  216  19.4247697438,-99.1249707246  {\"type\": \"Polygon\", \"coordinates\": [[[-99.1250...  ...         B  Mercado  Lamininas de La Merced\n",
       "219  219  19.4234096295,-99.1438351156  {\"type\": \"MultiPoint\", \"coordinates\": [[-99.14...  ...         B    Hotel          Prado Floresta\n",
       "222  222   19.4397905042,-99.134628735  {\"type\": \"MultiPoint\", \"coordinates\": [[-99.13...  ...         A    Hotel                  Ladero\n",
       "225  225      19.43094655,-99.12455418  {\"type\": \"MultiPoint\", \"coordinates\": [[-99.12...  ...         B    Hotel           Gran Veracruz\n",
       "228  228  19.4406567734,-99.1394531646  {\"type\": \"MultiPoint\", \"coordinates\": [[-99.13...  ...         B    Museo        Tequila y Mescal\n",
       "\n",
       "[77 rows x 8 columns]"
      ]
     },
     "execution_count": 7,
     "metadata": {},
     "output_type": "execute_result"
    }
   ],
   "source": [
    "posicion_inicial = 0\n",
    "posicion_final = len(df)\n",
    "steps = 3\n",
    "\n",
    "df.iloc[list(range(posicion_inicial,posicion_final,steps)),:]"
   ]
  },
  {
   "cell_type": "markdown",
   "id": "fec7414f-d0ef-4b20-a852-51fc9f02e708",
   "metadata": {},
   "source": [
    "### **1.3 Muestreo estratificado**"
   ]
  },
  {
   "cell_type": "code",
   "execution_count": 8,
   "id": "6ebc36da-e6b9-421a-bb7d-207c159ca209",
   "metadata": {},
   "outputs": [],
   "source": [
    "df['category'] = df['delegacion'] + '_' + df['tipo']"
   ]
  },
  {
   "cell_type": "code",
   "execution_count": 9,
   "id": "fdbd8fda-bea4-4de3-b78e-390d9b3ec52c",
   "metadata": {},
   "outputs": [
    {
     "data": {
      "text/html": [
       "<div>\n",
       "<style scoped>\n",
       "    .dataframe tbody tr th:only-of-type {\n",
       "        vertical-align: middle;\n",
       "    }\n",
       "\n",
       "    .dataframe tbody tr th {\n",
       "        vertical-align: top;\n",
       "    }\n",
       "\n",
       "    .dataframe thead th {\n",
       "        text-align: right;\n",
       "    }\n",
       "</style>\n",
       "<table border=\"1\" class=\"dataframe\">\n",
       "  <thead>\n",
       "    <tr style=\"text-align: right;\">\n",
       "      <th></th>\n",
       "      <th>category</th>\n",
       "    </tr>\n",
       "  </thead>\n",
       "  <tbody>\n",
       "    <tr>\n",
       "      <th>Cuautémoc_Hotel</th>\n",
       "      <td>64.35</td>\n",
       "    </tr>\n",
       "    <tr>\n",
       "      <th>Cuautémoc_Museo</th>\n",
       "      <td>15.65</td>\n",
       "    </tr>\n",
       "    <tr>\n",
       "      <th>Venustiano Carranza_Hotel</th>\n",
       "      <td>7.83</td>\n",
       "    </tr>\n",
       "    <tr>\n",
       "      <th>Cuauhtémoc_Mercado</th>\n",
       "      <td>7.39</td>\n",
       "    </tr>\n",
       "    <tr>\n",
       "      <th>Venustiano Carranza_Mercado</th>\n",
       "      <td>4.78</td>\n",
       "    </tr>\n",
       "  </tbody>\n",
       "</table>\n",
       "</div>"
      ],
      "text/plain": [
       "                             category\n",
       "Cuautémoc_Hotel                 64.35\n",
       "Cuautémoc_Museo                 15.65\n",
       "Venustiano Carranza_Hotel        7.83\n",
       "Cuauhtémoc_Mercado               7.39\n",
       "Venustiano Carranza_Mercado      4.78"
      ]
     },
     "execution_count": 9,
     "metadata": {},
     "output_type": "execute_result"
    }
   ],
   "source": [
    "pd.DataFrame(round(df['category'].value_counts()/len(df) * 100, 2))"
   ]
  },
  {
   "cell_type": "code",
   "execution_count": 10,
   "id": "3731ba9c-29ba-4fdd-b9e7-3376679cbe99",
   "metadata": {},
   "outputs": [],
   "source": [
    "df_est = pd.DataFrame(columns = df.columns)\n",
    "muestra = 0.25\n",
    "\n",
    "for i in set(df['category']):\n",
    "    df_muestra = df.query(f'category == \"{i}\"').sample(int(muestra * len(df.query(f'category == \"{i}\"')))).copy()\n",
    "    df_est = pd.concat([df_est, df_muestra], axis=0)"
   ]
  },
  {
   "cell_type": "code",
   "execution_count": 11,
   "id": "393e8402-a904-42ca-9b2d-1fab983e42b3",
   "metadata": {},
   "outputs": [
    {
     "data": {
      "text/html": [
       "<div>\n",
       "<style scoped>\n",
       "    .dataframe tbody tr th:only-of-type {\n",
       "        vertical-align: middle;\n",
       "    }\n",
       "\n",
       "    .dataframe tbody tr th {\n",
       "        vertical-align: top;\n",
       "    }\n",
       "\n",
       "    .dataframe thead th {\n",
       "        text-align: right;\n",
       "    }\n",
       "</style>\n",
       "<table border=\"1\" class=\"dataframe\">\n",
       "  <thead>\n",
       "    <tr style=\"text-align: right;\">\n",
       "      <th></th>\n",
       "      <th>category</th>\n",
       "    </tr>\n",
       "  </thead>\n",
       "  <tbody>\n",
       "    <tr>\n",
       "      <th>Cuautémoc_Hotel</th>\n",
       "      <td>66.07</td>\n",
       "    </tr>\n",
       "    <tr>\n",
       "      <th>Cuautémoc_Museo</th>\n",
       "      <td>16.07</td>\n",
       "    </tr>\n",
       "    <tr>\n",
       "      <th>Cuauhtémoc_Mercado</th>\n",
       "      <td>7.14</td>\n",
       "    </tr>\n",
       "    <tr>\n",
       "      <th>Venustiano Carranza_Hotel</th>\n",
       "      <td>7.14</td>\n",
       "    </tr>\n",
       "    <tr>\n",
       "      <th>Venustiano Carranza_Mercado</th>\n",
       "      <td>3.57</td>\n",
       "    </tr>\n",
       "  </tbody>\n",
       "</table>\n",
       "</div>"
      ],
      "text/plain": [
       "                             category\n",
       "Cuautémoc_Hotel                 66.07\n",
       "Cuautémoc_Museo                 16.07\n",
       "Cuauhtémoc_Mercado               7.14\n",
       "Venustiano Carranza_Hotel        7.14\n",
       "Venustiano Carranza_Mercado      3.57"
      ]
     },
     "execution_count": 11,
     "metadata": {},
     "output_type": "execute_result"
    }
   ],
   "source": [
    "pd.DataFrame(round(df_est['category'].value_counts()/len(df_est) * 100, 2))"
   ]
  },
  {
   "cell_type": "markdown",
   "id": "6b5ef546-73a5-40fb-8cd4-9be40dd5c736",
   "metadata": {},
   "source": [
    "## **2. Estadísticos y cálculos**"
   ]
  },
  {
   "cell_type": "code",
   "execution_count": 12,
   "id": "5016046d-c4e5-41e0-9b5a-085d15f49805",
   "metadata": {},
   "outputs": [],
   "source": [
    "iris = sns.load_dataset('iris')"
   ]
  },
  {
   "cell_type": "code",
   "execution_count": 13,
   "id": "22e00f47-440d-4313-a516-fe05aaf91149",
   "metadata": {},
   "outputs": [
    {
     "data": {
      "image/png": "[encoded data removed]",
      "text/plain": [
       "<Figure size 828x360 with 1 Axes>"
      ]
     },
     "metadata": {
      "needs_background": "dark"
     },
     "output_type": "display_data"
    }
   ],
   "source": [
    "sns.set(rc={'figure.facecolor': '#21252b', 'axes.facecolor': '#282c34'})\n",
    "\n",
    "sns.displot(data=iris, x='sepal_length', kde=True, alpha=0.8, bins=36, aspect=11.5/5)\n",
    "\n",
    "plt.title('Histograma de frecuencia del largo del sépalo', fontweight=1000, color='w', fontsize=14)\n",
    "\n",
    "plt.xlabel('Largo del sépalo', color='w', fontweight=1000)\n",
    "plt.xticks(color='white', size=12)\n",
    "\n",
    "plt.ylabel('Conteo', color='w', fontweight=1000)\n",
    "plt.yticks(color='white', size=12)\n",
    "\n",
    "plt.grid(linewidth=0.2)\n",
    "\n",
    "plt.show()"
   ]
  },
  {
   "cell_type": "markdown",
   "id": "24097043-b197-4374-a7d2-6c5d9645aac0",
   "metadata": {},
   "source": [
    "#### **Promedio**"
   ]
  },
  {
   "cell_type": "code",
   "execution_count": 14,
   "id": "13af139e-172b-465e-a70d-9613ab233448",
   "metadata": {},
   "outputs": [
    {
     "data": {
      "text/plain": [
       "5.84"
      ]
     },
     "execution_count": 14,
     "metadata": {},
     "output_type": "execute_result"
    }
   ],
   "source": [
    "round(iris['sepal_length'].mean(), 2)"
   ]
  },
  {
   "cell_type": "markdown",
   "id": "13eb74ae-dbfd-4ecf-b81b-b9f13ce597aa",
   "metadata": {},
   "source": [
    "#### **Varianza**"
   ]
  },
  {
   "cell_type": "code",
   "execution_count": 15,
   "id": "423660b6-7cb9-42df-8893-48e8058949fc",
   "metadata": {},
   "outputs": [
    {
     "data": {
      "text/plain": [
       "0.69"
      ]
     },
     "execution_count": 15,
     "metadata": {},
     "output_type": "execute_result"
    }
   ],
   "source": [
    "round(iris['sepal_length'].var(), 2)"
   ]
  },
  {
   "cell_type": "markdown",
   "id": "31061d53-6717-4e17-acf7-9e3fe2d573d0",
   "metadata": {},
   "source": [
    "#### **Desviación estándar**"
   ]
  },
  {
   "cell_type": "code",
   "execution_count": 16,
   "id": "354054c8-5b8a-4aff-975a-cb8756386686",
   "metadata": {},
   "outputs": [
    {
     "data": {
      "text/plain": [
       "0.83"
      ]
     },
     "execution_count": 16,
     "metadata": {},
     "output_type": "execute_result"
    }
   ],
   "source": [
    "round(iris['sepal_length'].std(), 2)"
   ]
  },
  {
   "cell_type": "markdown",
   "id": "df63d449-a950-4ef6-8f62-9f2d9ea4faeb",
   "metadata": {},
   "source": [
    "### **Aplicando muestreo aleatorio simple**"
   ]
  },
  {
   "cell_type": "code",
   "execution_count": 17,
   "id": "d613374c-e054-4a3b-b038-5f60f805b988",
   "metadata": {},
   "outputs": [],
   "source": [
    "iris_sample = iris.sample(frac=0.5)"
   ]
  },
  {
   "cell_type": "markdown",
   "id": "65ed192c-2e97-468b-9a30-206428edc479",
   "metadata": {},
   "source": [
    "#### **Promedio muestral**"
   ]
  },
  {
   "cell_type": "code",
   "execution_count": 18,
   "id": "9ca3e429-040b-4583-842e-a8844bf4bb9f",
   "metadata": {},
   "outputs": [
    {
     "data": {
      "text/plain": [
       "5.794666666666666"
      ]
     },
     "execution_count": 18,
     "metadata": {},
     "output_type": "execute_result"
    }
   ],
   "source": [
    "iris_sample['sepal_length'].mean()"
   ]
  },
  {
   "cell_type": "markdown",
   "id": "4d8c5ba1-67b3-4874-9cc2-eec8d926d732",
   "metadata": {},
   "source": [
    "#### **Varianza muestral**"
   ]
  },
  {
   "cell_type": "code",
   "execution_count": 19,
   "id": "a515e1ae-5b88-4c31-a2cd-a48bee21f0c3",
   "metadata": {},
   "outputs": [
    {
     "data": {
      "text/plain": [
       "0.76"
      ]
     },
     "execution_count": 19,
     "metadata": {},
     "output_type": "execute_result"
    }
   ],
   "source": [
    "round(iris_sample['sepal_length'].var(), 2)"
   ]
  },
  {
   "cell_type": "markdown",
   "id": "f5a44cdf-4872-4291-b8c4-68492b514c65",
   "metadata": {},
   "source": [
    "#### **Desviación estándar muestral**"
   ]
  },
  {
   "cell_type": "code",
   "execution_count": 20,
   "id": "5f72821f-d4af-4b15-814a-180321a98ec0",
   "metadata": {},
   "outputs": [
    {
     "data": {
      "text/plain": [
       "0.87"
      ]
     },
     "execution_count": 20,
     "metadata": {},
     "output_type": "execute_result"
    }
   ],
   "source": [
    "round(iris_sample['sepal_length'].std(), 2)"
   ]
  },
  {
   "cell_type": "markdown",
   "id": "63a16748-7fd4-4f4b-b420-e3d5360bbce2",
   "metadata": {},
   "source": [
    "## **3. Intervalos de Confianza**"
   ]
  },
  {
   "cell_type": "markdown",
   "id": "7e8ea937-e892-49da-8e02-56534488aeb9",
   "metadata": {},
   "source": [
    "### **Conociendo el nivel de significancia**"
   ]
  },
  {
   "cell_type": "markdown",
   "id": "a2cb2c8a-61b1-4ef9-ab21-efc782313fb4",
   "metadata": {},
   "source": [
    "El valor de alpha es del 5%. El intervalo de confienza es del 95%"
   ]
  },
  {
   "cell_type": "code",
   "execution_count": 21,
   "id": "37b47c5f-2595-4cdf-ae8e-a40e000de27a",
   "metadata": {},
   "outputs": [
    {
     "data": {
      "text/plain": [
       "1.96"
      ]
     },
     "execution_count": 21,
     "metadata": {},
     "output_type": "execute_result"
    }
   ],
   "source": [
    "# Valor Z\n",
    "round(stats.norm.ppf(0.975), 2)"
   ]
  },
  {
   "cell_type": "markdown",
   "id": "e4ce77e9-7081-4843-9f78-0e22e030b8f9",
   "metadata": {},
   "source": [
    "El intervalo de confianza sería: [-1.96, 1.96]"
   ]
  },
  {
   "cell_type": "markdown",
   "id": "38b43472-b4c4-4907-a0bc-03acc6645d53",
   "metadata": {},
   "source": [
    "### **Conociendo la media y la desviación estándar**"
   ]
  },
  {
   "cell_type": "markdown",
   "id": "7b62ec52-a688-4862-8325-d7884a8ccc25",
   "metadata": {},
   "source": [
    "**Media** = 28 \n",
    "\n",
    "**Desviación estándar** = 4 \n",
    "\n",
    "**alpha** = 20% El intervalo de confienza es del 80%"
   ]
  },
  {
   "cell_type": "code",
   "execution_count": 22,
   "id": "8f3e86bd-e499-41d4-bc8c-5cd5897a837d",
   "metadata": {},
   "outputs": [],
   "source": [
    "# Valor Z\n",
    "z_value = round(stats.norm.ppf(0.9), 2)"
   ]
  },
  {
   "cell_type": "markdown",
   "id": "341a5ed3-6a8a-4787-9044-dae7babce33d",
   "metadata": {},
   "source": [
    "El intervalo de confianza con valores z sería: [-1.28, 1.28]\n",
    "\n",
    "Conociendo la media y la desviación estándar podemos calcular los valores."
   ]
  },
  {
   "cell_type": "markdown",
   "id": "76c35753-5741-4bda-87e1-50a9d1706abd",
   "metadata": {},
   "source": [
    "$$Z = \\frac{x - \\mu}{\\sigma}$$\n",
    "\n",
    "Entonces.\n",
    "\n",
    "$$x = ({Z * \\sigma}) + {\\mu}$$"
   ]
  },
  {
   "cell_type": "code",
   "execution_count": 23,
   "id": "4343fcc3-66ba-4f5d-889f-9e1cf612ef5d",
   "metadata": {},
   "outputs": [],
   "source": [
    "lim_inf = (-z_value * 4) + 28\n",
    "lim_sup = (z_value * 4) + 28"
   ]
  },
  {
   "cell_type": "code",
   "execution_count": 24,
   "id": "46afad79-bf8f-4102-b268-640e0dd8904d",
   "metadata": {},
   "outputs": [
    {
     "data": {
      "text/plain": [
       "[22.88, 33.12]"
      ]
     },
     "execution_count": 24,
     "metadata": {},
     "output_type": "execute_result"
    }
   ],
   "source": [
    "[lim_inf, lim_sup]"
   ]
  },
  {
   "cell_type": "code",
   "execution_count": 25,
   "id": "10b2df0f-40b5-4770-be6c-e77527fa7544",
   "metadata": {},
   "outputs": [],
   "source": [
    "def intervalos_confianza(alpha, mean, std):\n",
    "    confianza = 1 - (alpha/2)    \n",
    "    z_value = round(stats.norm.ppf(confianza), 2)\n",
    "    \n",
    "    lim_inf = (-z_value * 4) + 28\n",
    "    lim_sup = (z_value * 4) + 28\n",
    "    \n",
    "    return [lim_inf, lim_sup]"
   ]
  },
  {
   "cell_type": "markdown",
   "id": "428ddf18-c99a-4176-a44f-755fde11d141",
   "metadata": {},
   "source": [
    "### **Aplicando a una simulación**"
   ]
  },
  {
   "cell_type": "code",
   "execution_count": 26,
   "id": "09c162b6-d62d-41bb-8b73-0189d12ea170",
   "metadata": {},
   "outputs": [],
   "source": [
    "var_1 = np.random.randint(0, 10, 10)\n",
    "var_2 = var_1 + np.random.normal(0, 1, 10)"
   ]
  },
  {
   "cell_type": "code",
   "execution_count": 27,
   "id": "1ace8e14-25ca-452b-a28c-f2fbbeb398a4",
   "metadata": {},
   "outputs": [
    {
     "data": {
      "image/png": "[encoded data removed]",
      "text/plain": [
       "<Figure size 1400x500 with 1 Axes>"
      ]
     },
     "metadata": {},
     "output_type": "display_data"
    }
   ],
   "source": [
    "fig, ax = plt.subplots(figsize=(14, 5))\n",
    "\n",
    "sns.regplot(x=var_1, y=var_2, ci=80)\n",
    "\n",
    "plt.xlabel('Variable 1', color='w', fontweight=1000)\n",
    "plt.xticks(color='white', size=12)\n",
    "\n",
    "plt.ylabel('Variable 2', color='w', fontweight=1000)\n",
    "plt.yticks(color='white', size=12)\n",
    "\n",
    "plt.grid(linewidth=0.2)\n",
    "\n",
    "plt.show()"
   ]
  },
  {
   "cell_type": "code",
   "execution_count": 28,
   "id": "8612ead1-fc58-44aa-951c-ce656e70dff8",
   "metadata": {},
   "outputs": [],
   "source": [
    "datos = pd.DataFrame(list(zip(var_1, var_2)), columns=['Variable_1', 'Variable_2'])"
   ]
  },
  {
   "cell_type": "code",
   "execution_count": 29,
   "id": "84b8510a-2a9d-4b28-adf4-560e19ed6b04",
   "metadata": {},
   "outputs": [
    {
     "name": "stderr",
     "output_type": "stream",
     "text": [
      "C:\\Users\\jmart\\anaconda3\\envs\\StarterPack\\lib\\site-packages\\numpy\\core\\fromnumeric.py:3472: FutureWarning: In a future version, DataFrame.mean(axis=None) will return a scalar mean over the entire DataFrame. To retain the old behavior, use 'frame.mean(axis=0)' or just 'frame.mean()'\n",
      "  return mean(axis=axis, dtype=dtype, out=out, **kwargs)\n"
     ]
    },
    {
     "data": {
      "text/plain": [
       "(array([3.50219164, 3.55736205]), array([6.69780836, 6.56524065]))"
      ]
     },
     "execution_count": 29,
     "metadata": {},
     "output_type": "execute_result"
    }
   ],
   "source": [
    "# Para muestras menores a 30. En este caso utilizamos la distribución t\n",
    "stats.t.interval(alpha=0.95, df=len(datos)-1, loc=np.mean(datos), scale=stats.sem(datos))"
   ]
  },
  {
   "cell_type": "code",
   "execution_count": 30,
   "id": "4ddf7125-f8c6-4176-9747-8cb30117dc69",
   "metadata": {},
   "outputs": [
    {
     "data": {
      "text/plain": [
       "(array([3.71563693, 3.75826772]), array([6.48436307, 6.36433498]))"
      ]
     },
     "execution_count": 30,
     "metadata": {},
     "output_type": "execute_result"
    }
   ],
   "source": [
    "# Para muestras mayores a 29. En este caso utilizamos la distribución normal\n",
    "stats.norm.interval(alpha=0.95, loc=np.mean(datos), scale=stats.sem(datos))"
   ]
  },
  {
   "cell_type": "markdown",
   "id": "19281211-a03a-43c6-8619-9b84988a673b",
   "metadata": {},
   "source": [
    "## **4. Pruebas de hipótesis**"
   ]
  },
  {
   "cell_type": "markdown",
   "id": "1ca5d4bb-28b3-42c6-8873-745272e4de9b",
   "metadata": {},
   "source": [
    "<ol>\n",
    "    <li>Establecer una hipótesis nula (Ho) y una hipótesis alternativa (H1).</li>\n",
    "    <li>Seleccionar el nivel de significancia.</li>\n",
    "    <li>Seleccionar el estadístico de prueba.</li>\n",
    "    <li>Formular la regla de decisión.</li>\n",
    "    <li>Interpretar los resultados y tomar una decisión.</li>\n",
    "<ol>"
   ]
  },
  {
   "cell_type": "markdown",
   "id": "d140fb6b-d2c5-4e97-82a2-db79a9860736",
   "metadata": {},
   "source": [
    "### **Tipos de pruebas de hipótesis**"
   ]
  },
  {
   "cell_type": "markdown",
   "id": "d6c4a118-07f7-4f24-b121-f9ef1f783f61",
   "metadata": {},
   "source": [
    "#### **Distribución T-Student**\n",
    "\n",
    "Se usa para estimar una **media de población** normalmente distribuida a partir de una muestra pequeña que sigue una distribución normal y de la que desconocemos la desviación estándar.\n",
    "\n",
    "$$t = \\frac{x_1 - x_2}{\\sqrt{\\frac{(s_1)^{2}}{n_1} + \\frac{(s_2)^{2}}{n_2}}}$$"
   ]
  },
  {
   "cell_type": "markdown",
   "id": "1ae159ef-35e9-4fc8-8bca-483bc746a2c1",
   "metadata": {},
   "source": [
    "**Ho:** La distribución de las variables es similar\n",
    "\n",
    "**H1:** La distribución de las variables no es similar"
   ]
  },
  {
   "cell_type": "code",
   "execution_count": 55,
   "id": "cea0e8ea-587c-4bea-990c-45179bf67fe5",
   "metadata": {},
   "outputs": [],
   "source": [
    "se_length = iris['sepal_length'].std() / np.sqrt(10) \n",
    "se_width = iris['sepal_width'].std() / np.sqrt(10)"
   ]
  },
  {
   "cell_type": "code",
   "execution_count": 56,
   "id": "aa16eb7d-00d2-4767-98e8-c014bd219631",
   "metadata": {},
   "outputs": [],
   "source": [
    "sed = np.sqrt((se_length**2) + (se_width**2))"
   ]
  },
  {
   "cell_type": "code",
   "execution_count": 57,
   "id": "12c9c9b1-63e9-4518-bfde-cce5e8dc63aa",
   "metadata": {},
   "outputs": [
    {
     "data": {
      "text/plain": [
       "9.414779428410263"
      ]
     },
     "execution_count": 57,
     "metadata": {},
     "output_type": "execute_result"
    }
   ],
   "source": [
    "t_stat = (iris['sepal_length'].mean() - iris['sepal_width'].mean()) / sed\n",
    "t_stat"
   ]
  },
  {
   "cell_type": "code",
   "execution_count": 58,
   "id": "d9820689-c6c6-4f1d-a9d6-c2dd18e146a6",
   "metadata": {},
   "outputs": [
    {
     "data": {
      "text/plain": [
       "Ttest_indResult(statistic=36.463283934449116, pvalue=7.027919392009369e-112)"
      ]
     },
     "execution_count": 58,
     "metadata": {},
     "output_type": "execute_result"
    }
   ],
   "source": [
    "p = stats.ttest_ind(iris['sepal_length'], iris['sepal_width'])\n",
    "p"
   ]
  },
  {
   "cell_type": "code",
   "execution_count": 68,
   "id": "1dbfa7bb-2a3a-47be-8384-8ef2129bcb47",
   "metadata": {},
   "outputs": [
    {
     "name": "stdout",
     "output_type": "stream",
     "text": [
      "El valor absoluto de t 9.41 es mayor que nuestro valor crítico 0.0. Entonces las distribuciones son diferentes.\n",
      "\n",
      "Rechazamos la hipotesis nula.\n"
     ]
    }
   ],
   "source": [
    "print(f'''El valor absoluto de t {round(t_stat, 2)} es mayor que nuestro valor crítico {round(p.pvalue, 2)}. Entonces las distribuciones son diferentes.\n",
    "\n",
    "Rechazamos la hipotesis nula.''')"
   ]
  },
  {
   "cell_type": "markdown",
   "id": "594e53ce-da6c-4354-ae8d-36072b986097",
   "metadata": {},
   "source": [
    "#### **Coefiente de Pearson**\n",
    "\n",
    "Se usa para medir la dependecia lineal (correlación) entre dos variables cuantitativas."
   ]
  },
  {
   "cell_type": "code",
   "execution_count": 72,
   "id": "faca3fb9-60e9-4882-9c13-f2f20596a8d1",
   "metadata": {},
   "outputs": [],
   "source": [
    "correlation = iris['sepal_length'].corr(iris['sepal_width'])"
   ]
  },
  {
   "cell_type": "code",
   "execution_count": 73,
   "id": "021b5556-74e5-46b0-b5b8-0fe45fa9c0eb",
   "metadata": {},
   "outputs": [
    {
     "data": {
      "text/plain": [
       "-0.11756978413300208"
      ]
     },
     "execution_count": 73,
     "metadata": {},
     "output_type": "execute_result"
    }
   ],
   "source": [
    "correlation"
   ]
  },
  {
   "cell_type": "code",
   "execution_count": 74,
   "id": "a9f90958-6855-445c-ad07-3b2816ff16f1",
   "metadata": {},
   "outputs": [
    {
     "data": {
      "text/plain": [
       "(-0.11756978413300205, 0.15189826071144918)"
      ]
     },
     "execution_count": 74,
     "metadata": {},
     "output_type": "execute_result"
    }
   ],
   "source": [
    "stats.pearsonr(iris['sepal_length'], iris['sepal_width'])"
   ]
  },
  {
   "cell_type": "markdown",
   "id": "3fe9cdbf-4570-44fc-aa71-cbafb9b6fe5c",
   "metadata": {},
   "source": [
    "No hay correlación entre las variables."
   ]
  },
  {
   "cell_type": "markdown",
   "id": "b354638c-c1be-4acc-86c2-7dfb5b4abdb2",
   "metadata": {},
   "source": [
    "#### **Análisis de Varianza - ANOVA**\n",
    "\n",
    "Se usa para comparar las varianzas entre las medias de diferentes grupos."
   ]
  },
  {
   "cell_type": "code",
   "execution_count": 75,
   "id": "82e6cf66-00ee-4d7a-8f83-a4b23001cb82",
   "metadata": {},
   "outputs": [
    {
     "data": {
      "text/plain": [
       "F_onewayResult(statistic=1329.571075284254, pvalue=7.027919392009998e-112)"
      ]
     },
     "execution_count": 75,
     "metadata": {},
     "output_type": "execute_result"
    }
   ],
   "source": [
    "stats.f_oneway(iris['sepal_length'], iris['sepal_width'])"
   ]
  },
  {
   "cell_type": "markdown",
   "id": "c2b4d485-6be4-4c63-823c-92dacdf42fed",
   "metadata": {},
   "source": [
    "El pvalue es menor a nuestro nivel de significancia, 0.05. Rechazamos la Ho"
   ]
  },
  {
   "cell_type": "markdown",
   "id": "2f6e5b91-4593-4a29-a3e7-ec474c27594e",
   "metadata": {},
   "source": [
    "### **Tipos de errores**"
   ]
  },
  {
   "cell_type": "markdown",
   "id": "c6706eda-120d-47ad-9804-61c27ed7f85b",
   "metadata": {},
   "source": [
    "**Decisiones correctas**\n",
    "\n",
    "- Rechazar Ho cuando es falsa.\n",
    "- No rechazar Ho cuando es verdadera.\n",
    "\n",
    "**Decisiones incorrectas**\n",
    "\n",
    "- Rechazar Ho cuando es verdadera.\n",
    "- No rechazar Ho cuando es falsa."
   ]
  },
  {
   "cell_type": "markdown",
   "id": "a20db7c7-1a3f-4e04-9a2e-d767a2fb092c",
   "metadata": {},
   "source": [
    "<table style='text-align:center'>\n",
    "  <tr>\n",
    "    <th></th>\n",
    "    <th><strong>Ho Verdadera</strong></th>\n",
    "    <th><strong>Ho Falsa</strong></th>\n",
    "  </tr>\n",
    "  <tr>\n",
    "    <td><strong>Rechazamos Ho</strong></td>\n",
    "    <td>\n",
    "        Error tipo I <br/>\n",
    "        P(Error tipo I) = α\n",
    "    </td>\n",
    "    <td>Decisión correcta</td>\n",
    "  </tr>\n",
    "  <tr>\n",
    "    <td><strong>No rechazamos Ho</strong></td>\n",
    "    <td>Decisión correcta</td>\n",
    "    <td>\n",
    "        Error tipo II <br/>\n",
    "        P(Error tipo II) = β\n",
    "    </td>\n",
    "  </tr>\n",
    "</table>"
   ]
  },
  {
   "cell_type": "markdown",
   "id": "d8f8ab45-05aa-48c0-baea-caa20a879bcb",
   "metadata": {},
   "source": [
    "## **5. Bootstraping**"
   ]
  },
  {
   "cell_type": "code",
   "execution_count": 77,
   "id": "5bcbdfc0-0ffd-46b8-898f-3419da8d769c",
   "metadata": {},
   "outputs": [],
   "source": [
    "data = np.random.normal(loc=34, size=10000)"
   ]
  },
  {
   "cell_type": "code",
   "execution_count": 125,
   "id": "ae1c839b-3b9e-4741-9418-678c97f3affe",
   "metadata": {},
   "outputs": [
    {
     "data": {
      "text/plain": [
       "33.91"
      ]
     },
     "execution_count": 125,
     "metadata": {},
     "output_type": "execute_result"
    }
   ],
   "source": [
    "promedio = []\n",
    "\n",
    "for i in range(40):\n",
    "    muestra = np.mean(random.sample(data.tolist(), 5))\n",
    "    promedio.append(muestra)\n",
    "    \n",
    "round(np.mean(promedio), 2)"
   ]
  },
  {
   "cell_type": "markdown",
   "id": "a8de6917-d73f-463f-bb8a-1af85fffbd7e",
   "metadata": {},
   "source": [
    "## **6. Validación cruzada**"
   ]
  },
  {
   "cell_type": "markdown",
   "id": "c8f92705-c783-4a4a-a0e9-58b99031ef23",
   "metadata": {},
   "source": [
    "**Modelo**"
   ]
  },
  {
   "cell_type": "code",
   "execution_count": 126,
   "id": "c4fda1dd-ff57-4148-98e7-1e9c2d062259",
   "metadata": {},
   "outputs": [],
   "source": [
    "breast = pd.read_csv('Data/breast.csv')"
   ]
  },
  {
   "cell_type": "code",
   "execution_count": 139,
   "id": "2f6b44ed-01d0-4d0f-a5fc-de6bd4b2c79b",
   "metadata": {},
   "outputs": [],
   "source": [
    "breast.drop('Unnamed: 32', axis=1, inplace=True)"
   ]
  },
  {
   "cell_type": "code",
   "execution_count": 156,
   "id": "192368de-4c10-4468-948f-07cff8b3ad10",
   "metadata": {},
   "outputs": [],
   "source": [
    "X = breast.drop(['id', 'diagnosis'], axis=1)\n",
    "y = pd.get_dummies(breast[['diagnosis']])[['diagnosis_B']]"
   ]
  },
  {
   "cell_type": "code",
   "execution_count": 159,
   "id": "6f3b0794-3f8a-45ad-a95c-4f0d29a2fa44",
   "metadata": {},
   "outputs": [],
   "source": [
    "X_train, X_test, y_train, y_test = train_test_split(X, y, test_size=0.2, random_state=13)"
   ]
  },
  {
   "cell_type": "code",
   "execution_count": 162,
   "id": "d274c1bd-aa8b-4c19-bc6b-e5f32f764414",
   "metadata": {},
   "outputs": [],
   "source": [
    "modelo = DecisionTreeClassifier()"
   ]
  },
  {
   "cell_type": "code",
   "execution_count": 166,
   "id": "60db5eec-e1d5-429e-ae5f-f625b98d03e7",
   "metadata": {},
   "outputs": [
    {
     "data": {
      "text/plain": [
       "DecisionTreeClassifier()"
      ]
     },
     "execution_count": 166,
     "metadata": {},
     "output_type": "execute_result"
    }
   ],
   "source": [
    "modelo.fit(X_train, y_train)"
   ]
  },
  {
   "cell_type": "code",
   "execution_count": 168,
   "id": "539e42ba-0a8d-421e-abde-8534ee954a24",
   "metadata": {},
   "outputs": [
    {
     "data": {
      "text/plain": [
       "0.868421052631579"
      ]
     },
     "execution_count": 168,
     "metadata": {},
     "output_type": "execute_result"
    }
   ],
   "source": [
    "modelo.score(X_test, y_test)"
   ]
  },
  {
   "cell_type": "code",
   "execution_count": 192,
   "id": "bf2a0eec-98c2-4754-97ed-c5e24d347c64",
   "metadata": {},
   "outputs": [
    {
     "data": {
      "text/html": [
       "<div>\n",
       "<style scoped>\n",
       "    .dataframe tbody tr th:only-of-type {\n",
       "        vertical-align: middle;\n",
       "    }\n",
       "\n",
       "    .dataframe tbody tr th {\n",
       "        vertical-align: top;\n",
       "    }\n",
       "\n",
       "    .dataframe thead th {\n",
       "        text-align: right;\n",
       "    }\n",
       "</style>\n",
       "<table border=\"1\" class=\"dataframe\">\n",
       "  <thead>\n",
       "    <tr style=\"text-align: right;\">\n",
       "      <th></th>\n",
       "      <th>Variable</th>\n",
       "      <th>Importance</th>\n",
       "    </tr>\n",
       "  </thead>\n",
       "  <tbody>\n",
       "    <tr>\n",
       "      <th>20</th>\n",
       "      <td>radius_worst</td>\n",
       "      <td>75.154538</td>\n",
       "    </tr>\n",
       "    <tr>\n",
       "      <th>27</th>\n",
       "      <td>concave points_worst</td>\n",
       "      <td>10.866547</td>\n",
       "    </tr>\n",
       "    <tr>\n",
       "      <th>1</th>\n",
       "      <td>texture_mean</td>\n",
       "      <td>4.633024</td>\n",
       "    </tr>\n",
       "    <tr>\n",
       "      <th>8</th>\n",
       "      <td>symmetry_mean</td>\n",
       "      <td>2.254554</td>\n",
       "    </tr>\n",
       "    <tr>\n",
       "      <th>13</th>\n",
       "      <td>area_se</td>\n",
       "      <td>2.101873</td>\n",
       "    </tr>\n",
       "  </tbody>\n",
       "</table>\n",
       "</div>"
      ],
      "text/plain": [
       "                Variable  Importance\n",
       "20          radius_worst   75.154538\n",
       "27  concave points_worst   10.866547\n",
       "1           texture_mean    4.633024\n",
       "8          symmetry_mean    2.254554\n",
       "13               area_se    2.101873"
      ]
     },
     "execution_count": 192,
     "metadata": {},
     "output_type": "execute_result"
    }
   ],
   "source": [
    "pd.DataFrame(zip(modelo.feature_names_in_, modelo.feature_importances_*100), columns=['Variable', 'Importance']).sort_values('Importance', ascending=False).head()"
   ]
  },
  {
   "cell_type": "markdown",
   "id": "7e4eea77-200f-468f-a47b-7f0c9798ec85",
   "metadata": {},
   "source": [
    "**Validación cruzada**"
   ]
  },
  {
   "cell_type": "code",
   "execution_count": 194,
   "id": "9de3253b-d2cc-4018-9480-34288ec284b5",
   "metadata": {},
   "outputs": [],
   "source": [
    "modelo = DecisionTreeClassifier()\n",
    "kfold_validation = KFold(10)"
   ]
  },
  {
   "cell_type": "code",
   "execution_count": 196,
   "id": "abb153e1-3f82-42e4-bd41-df3dfa3858f4",
   "metadata": {},
   "outputs": [],
   "source": [
    "resultados = cross_val_score(modelo, X, y, cv=kfold_validation)"
   ]
  },
  {
   "cell_type": "code",
   "execution_count": 198,
   "id": "19cd1b4a-a59b-48ee-b42e-a5a1c93afc02",
   "metadata": {},
   "outputs": [
    {
     "data": {
      "text/plain": [
       "0.9226190476190477"
      ]
     },
     "execution_count": 198,
     "metadata": {},
     "output_type": "execute_result"
    }
   ],
   "source": [
    "resultados.mean()"
   ]
  },
  {
   "cell_type": "code",
   "execution_count": 199,
   "id": "9a25b831-1ff7-4499-abfe-5997c970611d",
   "metadata": {},
   "outputs": [
    {
     "data": {
      "text/plain": [
       "array([0.92982456, 0.9122807 , 0.89473684, 0.96491228, 0.85964912,\n",
       "       0.96491228, 0.89473684, 0.96491228, 0.94736842, 0.89285714])"
      ]
     },
     "execution_count": 199,
     "metadata": {},
     "output_type": "execute_result"
    }
   ],
   "source": [
    "resultados"
   ]
  }
 ],
 "metadata": {
  "kernelspec": {
   "display_name": "Python 3 (ipykernel)",
   "language": "python",
   "name": "python3"
  },
  "language_info": {
   "codemirror_mode": {
    "name": "ipython",
    "version": 3
   },
   "file_extension": ".py",
   "mimetype": "text/x-python",
   "name": "python",
   "nbconvert_exporter": "python",
   "pygments_lexer": "ipython3",
   "version": "3.10.4"
  }
 },
 "nbformat": 4,
 "nbformat_minor": 5
}
