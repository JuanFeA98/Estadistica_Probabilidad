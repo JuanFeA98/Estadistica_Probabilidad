{
 "cells": [
  {
   "cell_type": "markdown",
   "id": "4e99d189-2cbf-451b-9dc3-fed918aee352",
   "metadata": {},
   "source": [
    "<h1 style='text-align:center; font-weight:bold'>\n",
    "    Álgebra Lineal\n",
    "</h1>"
   ]
  },
  {
   "cell_type": "markdown",
   "id": "fc736b62-8a69-4d70-9f00-8eef81e84b4c",
   "metadata": {},
   "source": [
    "## **Librerias**"
   ]
  },
  {
   "cell_type": "code",
   "execution_count": 1,
   "id": "37f2dc30-707d-4b99-a751-b7fce8007411",
   "metadata": {},
   "outputs": [],
   "source": [
    "import pandas as pd\n",
    "import numpy as np\n",
    "import matplotlib.pyplot as plt\n",
    "import seaborn as sns"
   ]
  },
  {
   "cell_type": "code",
   "execution_count": 2,
   "id": "612c9dbc-4fc4-40e5-a029-76ddbf751d9d",
   "metadata": {},
   "outputs": [],
   "source": [
    "pd.options.display.max_columns = False"
   ]
  },
  {
   "cell_type": "markdown",
   "id": "b631f3b8-439a-46a5-b7e0-00610b41c1c2",
   "metadata": {},
   "source": [
    "## **1. Conceptos básicos**"
   ]
  },
  {
   "cell_type": "code",
   "execution_count": 3,
   "id": "ee79899b-801c-44f9-82c9-b189c359fc5c",
   "metadata": {},
   "outputs": [
    {
     "data": {
      "text/plain": [
       "13"
      ]
     },
     "execution_count": 3,
     "metadata": {},
     "output_type": "execute_result"
    }
   ],
   "source": [
    "escalar = 13\n",
    "escalar"
   ]
  },
  {
   "cell_type": "code",
   "execution_count": 4,
   "id": "44f051ba-81b1-4ed8-a671-62f57b1f8faf",
   "metadata": {},
   "outputs": [
    {
     "name": "stdout",
     "output_type": "stream",
     "text": [
      "Dimensión: (5,)\n"
     ]
    },
    {
     "data": {
      "text/plain": [
       "array([1, 2, 3, 4, 5])"
      ]
     },
     "execution_count": 4,
     "metadata": {},
     "output_type": "execute_result"
    }
   ],
   "source": [
    "vector = np.array([1, 2, 3, 4, 5])\n",
    "\n",
    "print(f'Dimensión: {vector.shape}')\n",
    "vector"
   ]
  },
  {
   "cell_type": "code",
   "execution_count": 5,
   "id": "e2c3d96f-6bdd-44a2-ada3-3cf07bd371b3",
   "metadata": {},
   "outputs": [
    {
     "name": "stdout",
     "output_type": "stream",
     "text": [
      "Dimensión: (3, 3)\n"
     ]
    },
    {
     "data": {
      "text/plain": [
       "array([[1, 2, 3],\n",
       "       [4, 5, 6],\n",
       "       [7, 8, 9]])"
      ]
     },
     "execution_count": 5,
     "metadata": {},
     "output_type": "execute_result"
    }
   ],
   "source": [
    "matriz = np.array([[1, 2, 3], [4, 5, 6], [7, 8, 9]])\n",
    "\n",
    "print(f'Dimensión: {matriz.shape}')\n",
    "matriz"
   ]
  },
  {
   "cell_type": "code",
   "execution_count": 6,
   "id": "a9f308ac-9224-4411-960b-be7a39c7fbab",
   "metadata": {},
   "outputs": [
    {
     "name": "stdout",
     "output_type": "stream",
     "text": [
      "Dimensión: (2, 3, 3)\n"
     ]
    },
    {
     "data": {
      "text/plain": [
       "array([[[ 1,  2,  3],\n",
       "        [ 4,  5,  6],\n",
       "        [ 7,  8,  9]],\n",
       "\n",
       "       [[10, 20, 30],\n",
       "        [40, 50, 60],\n",
       "        [70, 80, 90]]])"
      ]
     },
     "execution_count": 6,
     "metadata": {},
     "output_type": "execute_result"
    }
   ],
   "source": [
    "tensor = np.array([[[1, 2, 3], [4, 5, 6], [7, 8, 9]], [[10, 20, 30], [40, 50, 60], [70, 80, 90]]])\n",
    "print(f'Dimensión: {tensor.shape}')\n",
    "tensor"
   ]
  },
  {
   "cell_type": "code",
   "execution_count": 7,
   "id": "81b851c9-8fd1-4916-9047-dd42f9ba1135",
   "metadata": {},
   "outputs": [
    {
     "data": {
      "image/png": "[encoded data removed]",
      "text/plain": [
       "<Figure size 432x288 with 1 Axes>"
      ]
     },
     "metadata": {
      "needs_background": "light"
     },
     "output_type": "display_data"
    }
   ],
   "source": [
    "plt.imshow(tensor, interpolation='nearest')\n",
    "plt.show()"
   ]
  },
  {
   "cell_type": "markdown",
   "id": "b5b82cc5-b202-484c-9380-a77dea838056",
   "metadata": {},
   "source": [
    "## **2. Operaciones básicas**"
   ]
  },
  {
   "cell_type": "code",
   "execution_count": 8,
   "id": "742c29d5-0756-4ede-b826-b954be853e0b",
   "metadata": {},
   "outputs": [],
   "source": [
    "vector = np.array([2, 3])\n",
    "matriz = np.array([[2, 4], [6, 3]])"
   ]
  },
  {
   "cell_type": "code",
   "execution_count": 9,
   "id": "7cef350f-f6fc-4e27-9378-9fdcb3280fa0",
   "metadata": {},
   "outputs": [
    {
     "data": {
      "text/plain": [
       "array([[2, 4],\n",
       "       [6, 3]])"
      ]
     },
     "execution_count": 9,
     "metadata": {},
     "output_type": "execute_result"
    }
   ],
   "source": [
    "matriz"
   ]
  },
  {
   "cell_type": "markdown",
   "id": "3a325120-abe7-4a04-aba2-982c4ca93b50",
   "metadata": {},
   "source": [
    "### **Transposición**"
   ]
  },
  {
   "cell_type": "code",
   "execution_count": 10,
   "id": "e4dcda34-e759-4cec-87aa-7eb181f70878",
   "metadata": {},
   "outputs": [
    {
     "data": {
      "text/plain": [
       "array([[2, 6],\n",
       "       [4, 3]])"
      ]
     },
     "execution_count": 10,
     "metadata": {},
     "output_type": "execute_result"
    }
   ],
   "source": [
    "# Transponer una matriz\n",
    "matriz_t = matriz.T\n",
    "matriz_t"
   ]
  },
  {
   "cell_type": "code",
   "execution_count": 11,
   "id": "94a1eae1-8db4-4c78-bf46-1742c43bf575",
   "metadata": {},
   "outputs": [
    {
     "data": {
      "text/plain": [
       "array([[[ 1,  2,  3],\n",
       "        [ 4,  5,  6],\n",
       "        [ 7,  8,  9]],\n",
       "\n",
       "       [[10, 20, 30],\n",
       "        [40, 50, 60],\n",
       "        [70, 80, 90]]])"
      ]
     },
     "execution_count": 11,
     "metadata": {},
     "output_type": "execute_result"
    }
   ],
   "source": [
    "tensor"
   ]
  },
  {
   "cell_type": "code",
   "execution_count": 12,
   "id": "8b811fbe-48f8-4d72-91b0-55d75597ddf3",
   "metadata": {},
   "outputs": [
    {
     "data": {
      "text/plain": [
       "array([[[ 1, 10],\n",
       "        [ 4, 40],\n",
       "        [ 7, 70]],\n",
       "\n",
       "       [[ 2, 20],\n",
       "        [ 5, 50],\n",
       "        [ 8, 80]],\n",
       "\n",
       "       [[ 3, 30],\n",
       "        [ 6, 60],\n",
       "        [ 9, 90]]])"
      ]
     },
     "execution_count": 12,
     "metadata": {},
     "output_type": "execute_result"
    }
   ],
   "source": [
    "# Transponer un tensor\n",
    "tensor_t = tensor.T\n",
    "tensor_t"
   ]
  },
  {
   "cell_type": "markdown",
   "id": "0af2fd9a-f004-4280-940c-3d1eab9e1ddc",
   "metadata": {},
   "source": [
    "### **Suma**"
   ]
  },
  {
   "cell_type": "code",
   "execution_count": 13,
   "id": "2d3911c5-62fe-4003-9325-79d72ed78468",
   "metadata": {},
   "outputs": [
    {
     "data": {
      "text/plain": [
       "array([[2, 4],\n",
       "       [6, 3]])"
      ]
     },
     "execution_count": 13,
     "metadata": {},
     "output_type": "execute_result"
    }
   ],
   "source": [
    "matriz"
   ]
  },
  {
   "cell_type": "code",
   "execution_count": 14,
   "id": "1a0ccb7e-c9d4-435a-ae64-fe62592a6ffc",
   "metadata": {},
   "outputs": [
    {
     "data": {
      "text/plain": [
       "array([[15, 17],\n",
       "       [19, 16]])"
      ]
     },
     "execution_count": 14,
     "metadata": {},
     "output_type": "execute_result"
    }
   ],
   "source": [
    "# Matriz con un escalar\n",
    "matriz + 13"
   ]
  },
  {
   "cell_type": "code",
   "execution_count": 15,
   "id": "2f5a0e76-5c2a-450f-93e8-d581ea529651",
   "metadata": {},
   "outputs": [
    {
     "data": {
      "text/plain": [
       "array([[ 4,  8],\n",
       "       [12,  6]])"
      ]
     },
     "execution_count": 15,
     "metadata": {},
     "output_type": "execute_result"
    }
   ],
   "source": [
    "# Matrices con las mismas dimensiones \n",
    "matriz + matriz"
   ]
  },
  {
   "cell_type": "code",
   "execution_count": 16,
   "id": "1ce41f00-1aae-44d7-9825-4a5ee21b395f",
   "metadata": {},
   "outputs": [
    {
     "data": {
      "text/plain": [
       "array([[4, 7],\n",
       "       [8, 6]])"
      ]
     },
     "execution_count": 16,
     "metadata": {},
     "output_type": "execute_result"
    }
   ],
   "source": [
    "# Matrices con dimensiones diferentes (Broadcasting)\n",
    "matriz + vector"
   ]
  },
  {
   "cell_type": "markdown",
   "id": "31805ef2-1667-47cb-b8fb-4a617f6fb081",
   "metadata": {},
   "source": [
    "### **Producto**"
   ]
  },
  {
   "cell_type": "code",
   "execution_count": 17,
   "id": "a22bd58e-ead5-42cf-967b-80515bcea739",
   "metadata": {},
   "outputs": [
    {
     "data": {
      "text/plain": [
       "array([[ 4, 12],\n",
       "       [12,  9]])"
      ]
     },
     "execution_count": 17,
     "metadata": {},
     "output_type": "execute_result"
    }
   ],
   "source": [
    "# Mulltipliación (Broadcasting)\n",
    "matriz * vector "
   ]
  },
  {
   "cell_type": "code",
   "execution_count": 18,
   "id": "96b9af05-5d63-4c15-bf1e-356041c9a591",
   "metadata": {},
   "outputs": [
    {
     "data": {
      "text/plain": [
       "array([16, 21])"
      ]
     },
     "execution_count": 18,
     "metadata": {},
     "output_type": "execute_result"
    }
   ],
   "source": [
    "# Producto interno\n",
    "matriz.dot(vector)"
   ]
  },
  {
   "cell_type": "code",
   "execution_count": 19,
   "id": "7f6da8ff-dfff-4545-97b3-b2d321954e93",
   "metadata": {},
   "outputs": [
    {
     "data": {
      "text/plain": [
       "array([16, 21])"
      ]
     },
     "execution_count": 19,
     "metadata": {},
     "output_type": "execute_result"
    }
   ],
   "source": [
    "# Producto interno\n",
    "np.dot(matriz, vector)"
   ]
  },
  {
   "cell_type": "code",
   "execution_count": 20,
   "id": "54c772e6-e749-4d63-b875-4e1f8c6f843b",
   "metadata": {},
   "outputs": [
    {
     "data": {
      "text/plain": [
       "array([[ 4,  6],\n",
       "       [ 8, 12],\n",
       "       [12, 18],\n",
       "       [ 6,  9]])"
      ]
     },
     "execution_count": 20,
     "metadata": {},
     "output_type": "execute_result"
    }
   ],
   "source": [
    "# Producto externo\n",
    "np.outer(matriz, vector)"
   ]
  },
  {
   "cell_type": "code",
   "execution_count": 21,
   "id": "0f4a6bd5-7a6c-401f-896f-b89d70d972c1",
   "metadata": {},
   "outputs": [
    {
     "data": {
      "text/plain": [
       "array([[28, 20],\n",
       "       [30, 33]])"
      ]
     },
     "execution_count": 21,
     "metadata": {},
     "output_type": "execute_result"
    }
   ],
   "source": [
    "# Matriz por matriz\n",
    "np.dot(matriz, matriz)"
   ]
  },
  {
   "cell_type": "markdown",
   "id": "b7e22134-a9a1-4a14-a5ab-76a80e63f3c5",
   "metadata": {},
   "source": [
    "**Transposición del producto de matrices**\n",
    "\n",
    "$$(A*B)^T = B^T * A^T$$\n"
   ]
  },
  {
   "cell_type": "code",
   "execution_count": 34,
   "id": "b7074b16-d542-4fdd-9344-1b30d0ede364",
   "metadata": {},
   "outputs": [],
   "source": [
    "A = np.array([\n",
    "    [2, 3],\n",
    "    [5, 7],\n",
    "    [11, 13]\n",
    "])\n",
    "\n",
    "B = np.array([\n",
    "    [1, 3],\n",
    "    [2, 1]\n",
    "])"
   ]
  },
  {
   "cell_type": "code",
   "execution_count": 37,
   "id": "87bb70fc-4c30-409a-b1cd-fd7797a6a34f",
   "metadata": {},
   "outputs": [
    {
     "data": {
      "text/plain": [
       "array([[ 8, 19, 37],\n",
       "       [ 9, 22, 46]])"
      ]
     },
     "execution_count": 37,
     "metadata": {},
     "output_type": "execute_result"
    }
   ],
   "source": [
    "# (A*B)^t\n",
    "np.dot(A, B).T"
   ]
  },
  {
   "cell_type": "code",
   "execution_count": 38,
   "id": "837668d7-f3eb-4309-a476-e28f50b4df24",
   "metadata": {},
   "outputs": [
    {
     "data": {
      "text/plain": [
       "array([[ 8, 19, 37],\n",
       "       [ 9, 22, 46]])"
      ]
     },
     "execution_count": 38,
     "metadata": {},
     "output_type": "execute_result"
    }
   ],
   "source": [
    "# (B^t * A^t)\n",
    "\n",
    "np.dot(B.T, A.T)"
   ]
  },
  {
   "cell_type": "markdown",
   "id": "4efc6703-0824-483b-a504-0e1c227dd4c4",
   "metadata": {},
   "source": [
    "## **3. Sistemas de ecuaciones**"
   ]
  },
  {
   "cell_type": "markdown",
   "id": "6473677f-c01c-4365-a9f1-3539e5a5645f",
   "metadata": {},
   "source": [
    "$$y = 3x + 5$$\n",
    "$$y = 2x + 3$$"
   ]
  },
  {
   "cell_type": "code",
   "execution_count": 64,
   "id": "db211478-e82a-4dbf-a424-1fba6817bfc7",
   "metadata": {},
   "outputs": [],
   "source": [
    "x = list(range(-10, 10))\n",
    "y_1 = [(3*i + 5) for i in x]\n",
    "y_2 = [(2*i + 3) for i in x]"
   ]
  },
  {
   "cell_type": "markdown",
   "id": "99e7d00c-4fdb-444a-95fa-188ebfc83870",
   "metadata": {},
   "source": [
    "### **Método gráfico**"
   ]
  },
  {
   "cell_type": "code",
   "execution_count": 88,
   "id": "44d9f417-f61f-470b-b2e1-02c4fa55af53",
   "metadata": {},
   "outputs": [
    {
     "data": {
      "image/png": "[encoded data removed]",
      "text/plain": [
       "<Figure size 1008x288 with 1 Axes>"
      ]
     },
     "metadata": {},
     "output_type": "display_data"
    }
   ],
   "source": [
    "fig, ax = plt.subplots(figsize = (14, 4))\n",
    "\n",
    "plt.title('Sistema de ecuaciones.', fontsize=13, color='white', fontweight='bold')\n",
    "\n",
    "fig.patch.set_facecolor('#21252b') \n",
    "ax.set_facecolor('#282c34') \n",
    "\n",
    "plt.plot(x, y_1, marker='o', label='y_1')\n",
    "plt.plot(x, y_2, marker='o', label='y_2')\n",
    "\n",
    "plt.axvline(-2, color='gray')\n",
    "plt.axhline(-1, color='gray')\n",
    "\n",
    "plt.xticks(color='white', size=12)\n",
    "plt.yticks(color='white', size=12)\n",
    "\n",
    "plt.grid(linewidth=0.2)\n",
    "plt.legend(loc='lower right')\n",
    "\n",
    "plt.show()"
   ]
  },
  {
   "cell_type": "markdown",
   "id": "cf4ed216-ba8c-4aa6-86c4-64d3e14e6f32",
   "metadata": {},
   "source": [
    "### **Método matricial**"
   ]
  },
  {
   "cell_type": "markdown",
   "id": "e6053f7d-f858-46a2-8c2a-e4c856cd5ffb",
   "metadata": {},
   "source": [
    "Despejamos:\n",
    "$$-3x + y = 5$$  \n",
    "$$-2x + y = 3$$"
   ]
  },
  {
   "cell_type": "code",
   "execution_count": 99,
   "id": "51e7be56-acbe-4529-8960-d6831f63cd88",
   "metadata": {},
   "outputs": [],
   "source": [
    "A = np.matrix([\n",
    "    [-3, 1],\n",
    "    [-2, 1]\n",
    "])\n",
    "\n",
    "B = np.matrix([\n",
    "    [5],\n",
    "    [3]\n",
    "])"
   ]
  },
  {
   "cell_type": "code",
   "execution_count": 102,
   "id": "76c95f5f-cc1d-4854-b5e0-77f15fb0bfd5",
   "metadata": {},
   "outputs": [
    {
     "data": {
      "text/plain": [
       "matrix([[-2.],\n",
       "        [-1.]])"
      ]
     },
     "execution_count": 102,
     "metadata": {},
     "output_type": "execute_result"
    }
   ],
   "source": [
    "A**-1 * B"
   ]
  },
  {
   "cell_type": "code",
   "execution_count": null,
   "id": "6dd85a2c-2456-414a-9c5b-74433121a69f",
   "metadata": {},
   "outputs": [],
   "source": []
  }
 ],
 "metadata": {
  "kernelspec": {
   "display_name": "Python 3 (ipykernel)",
   "language": "python",
   "name": "python3"
  },
  "language_info": {
   "codemirror_mode": {
    "name": "ipython",
    "version": 3
   },
   "file_extension": ".py",
   "mimetype": "text/x-python",
   "name": "python",
   "nbconvert_exporter": "python",
   "pygments_lexer": "ipython3",
   "version": "3.10.4"
  }
 },
 "nbformat": 4,
 "nbformat_minor": 5
}
