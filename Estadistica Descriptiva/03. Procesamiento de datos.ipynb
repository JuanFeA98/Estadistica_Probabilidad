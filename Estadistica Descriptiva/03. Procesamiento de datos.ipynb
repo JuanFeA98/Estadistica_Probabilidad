{
 "cells": [
  {
   "cell_type": "markdown",
   "metadata": {},
   "source": [
    "## Escalamiento de datos"
   ]
  },
  {
   "cell_type": "markdown",
   "metadata": {},
   "source": [
    "### Librerias"
   ]
  },
  {
   "cell_type": "code",
   "execution_count": 1,
   "metadata": {
    "ExecuteTime": {
     "end_time": "2021-07-04T04:01:11.370798Z",
     "start_time": "2021-07-04T04:01:08.841550Z"
    }
   },
   "outputs": [],
   "source": [
    "import pandas as pd\n",
    "import numpy as np\n",
    "import matplotlib.pyplot as plt\n",
    "import seaborn as sns"
   ]
  },
  {
   "cell_type": "code",
   "execution_count": 2,
   "metadata": {
    "ExecuteTime": {
     "end_time": "2021-07-04T04:01:11.432020Z",
     "start_time": "2021-07-04T04:01:11.415262Z"
    }
   },
   "outputs": [],
   "source": [
    "import timeit"
   ]
  },
  {
   "cell_type": "code",
   "execution_count": 3,
   "metadata": {
    "ExecuteTime": {
     "end_time": "2021-07-04T04:01:12.813297Z",
     "start_time": "2021-07-04T04:01:11.469106Z"
    }
   },
   "outputs": [],
   "source": [
    "from sklearn import datasets, linear_model"
   ]
  },
  {
   "cell_type": "markdown",
   "metadata": {},
   "source": [
    "### Datos"
   ]
  },
  {
   "cell_type": "code",
   "execution_count": 4,
   "metadata": {
    "ExecuteTime": {
     "end_time": "2021-07-04T04:01:12.889804Z",
     "start_time": "2021-07-04T04:01:12.837666Z"
    }
   },
   "outputs": [],
   "source": [
    "data = datasets.load_diabetes()"
   ]
  },
  {
   "cell_type": "code",
   "execution_count": 5,
   "metadata": {
    "ExecuteTime": {
     "end_time": "2021-07-04T04:01:13.045188Z",
     "start_time": "2021-07-04T04:01:13.004970Z"
    }
   },
   "outputs": [],
   "source": [
    "X, y = datasets.load_diabetes(return_X_y=True) "
   ]
  },
  {
   "cell_type": "code",
   "execution_count": 6,
   "metadata": {
    "ExecuteTime": {
     "end_time": "2021-07-04T04:01:13.121268Z",
     "start_time": "2021-07-04T04:01:13.109927Z"
    }
   },
   "outputs": [],
   "source": [
    "names = data.feature_names"
   ]
  },
  {
   "cell_type": "code",
   "execution_count": 7,
   "metadata": {
    "ExecuteTime": {
     "end_time": "2021-07-04T04:01:13.934196Z",
     "start_time": "2021-07-04T04:01:13.923953Z"
    }
   },
   "outputs": [],
   "source": [
    "df_X = pd.DataFrame(X)\n",
    "df_X.columns=names"
   ]
  },
  {
   "cell_type": "code",
   "execution_count": 8,
   "metadata": {
    "ExecuteTime": {
     "end_time": "2021-07-04T04:01:14.651525Z",
     "start_time": "2021-07-04T04:01:14.639010Z"
    }
   },
   "outputs": [],
   "source": [
    "raw = X[:, None, 2]"
   ]
  },
  {
   "cell_type": "markdown",
   "metadata": {},
   "source": [
    "### Reglas de escalamiento"
   ]
  },
  {
   "cell_type": "code",
   "execution_count": 9,
   "metadata": {
    "ExecuteTime": {
     "end_time": "2021-07-04T04:01:16.098717Z",
     "start_time": "2021-07-04T04:01:16.094075Z"
    }
   },
   "outputs": [],
   "source": [
    "max_raw = raw.max()\n",
    "min_raw = raw.min()"
   ]
  },
  {
   "cell_type": "code",
   "execution_count": 10,
   "metadata": {
    "ExecuteTime": {
     "end_time": "2021-07-04T04:01:17.233115Z",
     "start_time": "2021-07-04T04:01:16.859475Z"
    }
   },
   "outputs": [
    {
     "data": {
      "image/png": "[encoded data removed]",
      "text/plain": [
       "<Figure size 432x288 with 1 Axes>"
      ]
     },
     "metadata": {
      "needs_background": "light"
     },
     "output_type": "display_data"
    }
   ],
   "source": [
    "plt.suptitle('Datos originales')\n",
    "sns.histplot(raw)\n",
    "plt.show()"
   ]
  },
  {
   "cell_type": "code",
   "execution_count": 11,
   "metadata": {
    "ExecuteTime": {
     "end_time": "2021-07-04T04:01:17.652315Z",
     "start_time": "2021-07-04T04:01:17.640165Z"
    }
   },
   "outputs": [],
   "source": [
    "scaled = (2*raw - max_raw - min_raw)/(max_raw - min_raw)"
   ]
  },
  {
   "cell_type": "code",
   "execution_count": 12,
   "metadata": {
    "ExecuteTime": {
     "end_time": "2021-07-04T04:01:19.078701Z",
     "start_time": "2021-07-04T04:01:18.838990Z"
    }
   },
   "outputs": [
    {
     "data": {
      "image/png": "[encoded data removed]",
      "text/plain": [
       "<Figure size 432x288 with 1 Axes>"
      ]
     },
     "metadata": {
      "needs_background": "light"
     },
     "output_type": "display_data"
    }
   ],
   "source": [
    "plt.suptitle('Datos escalonados')\n",
    "sns.histplot(scaled)\n",
    "plt.show()"
   ]
  },
  {
   "cell_type": "markdown",
   "metadata": {},
   "source": [
    "### Gráficos combinados"
   ]
  },
  {
   "cell_type": "code",
   "execution_count": 13,
   "metadata": {
    "ExecuteTime": {
     "end_time": "2021-07-04T04:01:21.061734Z",
     "start_time": "2021-07-04T04:01:20.662092Z"
    }
   },
   "outputs": [
    {
     "data": {
      "image/png": "[encoded data removed]",
      "text/plain": [
       "<Figure size 720x360 with 2 Axes>"
      ]
     },
     "metadata": {
      "needs_background": "light"
     },
     "output_type": "display_data"
    }
   ],
   "source": [
    "fig, ax = plt.subplots(2,1, figsize=(10,5), sharex=True)\n",
    "fig.suptitle('Datos originales vs Escalonados')\n",
    "\n",
    "sns.histplot(ax=ax[0], data=raw)\n",
    "ax[0].set_title('Datos originales')\n",
    "\n",
    "sns.histplot(ax=ax[1], data=scaled)\n",
    "ax[1].set_title('Datos escalonados')\n",
    "plt.show()"
   ]
  },
  {
   "cell_type": "markdown",
   "metadata": {},
   "source": [
    "### Modelo"
   ]
  },
  {
   "cell_type": "code",
   "execution_count": 14,
   "metadata": {
    "ExecuteTime": {
     "end_time": "2021-07-04T04:05:04.438138Z",
     "start_time": "2021-07-04T04:05:04.419204Z"
    }
   },
   "outputs": [],
   "source": [
    "def train_raw():\n",
    "    linear_model.LinearRegression().fit(raw, y)"
   ]
  },
  {
   "cell_type": "code",
   "execution_count": 15,
   "metadata": {
    "ExecuteTime": {
     "end_time": "2021-07-04T04:05:30.560612Z",
     "start_time": "2021-07-04T04:05:30.552873Z"
    }
   },
   "outputs": [],
   "source": [
    "def train_scaled():\n",
    "    linear_model.LinearRegression().fit(scaled, y)"
   ]
  },
  {
   "cell_type": "code",
   "execution_count": 30,
   "metadata": {
    "ExecuteTime": {
     "end_time": "2021-07-04T04:09:11.746940Z",
     "start_time": "2021-07-04T04:08:15.611457Z"
    }
   },
   "outputs": [],
   "source": [
    "raw_time = timeit.timeit(train_raw, number=100000)\n",
    "scaled_time = timeit.timeit(train_scaled, number=100000)"
   ]
  },
  {
   "cell_type": "code",
   "execution_count": 32,
   "metadata": {
    "ExecuteTime": {
     "end_time": "2021-07-04T04:15:21.988058Z",
     "start_time": "2021-07-04T04:15:21.904195Z"
    }
   },
   "outputs": [
    {
     "data": {
      "text/plain": [
       "(29.46, 26.67)"
      ]
     },
     "execution_count": 32,
     "metadata": {},
     "output_type": "execute_result"
    }
   ],
   "source": [
    "# Comparamos los tiempos de cada modelo\n",
    "round(raw_time, 2), round(scaled_time, 2)"
   ]
  },
  {
   "cell_type": "markdown",
   "metadata": {},
   "source": [
    "### Transformaciones no lineales"
   ]
  },
  {
   "cell_type": "code",
   "execution_count": 34,
   "metadata": {
    "ExecuteTime": {
     "end_time": "2021-07-04T04:16:29.800732Z",
     "start_time": "2021-07-04T04:16:29.569191Z"
    }
   },
   "outputs": [],
   "source": [
    "df = pd.read_csv('Data/cars.csv')"
   ]
  },
  {
   "cell_type": "code",
   "execution_count": 36,
   "metadata": {
    "ExecuteTime": {
     "end_time": "2021-07-04T04:16:51.389337Z",
     "start_time": "2021-07-04T04:16:51.375360Z"
    }
   },
   "outputs": [
    {
     "data": {
      "text/plain": [
       "['manufacturer_name',\n",
       " 'model_name',\n",
       " 'transmission',\n",
       " 'color',\n",
       " 'odometer_value',\n",
       " 'year_produced',\n",
       " 'engine_fuel',\n",
       " 'engine_has_gas',\n",
       " 'engine_type',\n",
       " 'engine_capacity',\n",
       " 'body_type',\n",
       " 'has_warranty',\n",
       " 'state',\n",
       " 'drivetrain',\n",
       " 'price_usd',\n",
       " 'is_exchangeable',\n",
       " 'location_region',\n",
       " 'number_of_photos',\n",
       " 'up_counter',\n",
       " 'feature_0',\n",
       " 'feature_1',\n",
       " 'feature_2',\n",
       " 'feature_3',\n",
       " 'feature_4',\n",
       " 'feature_5',\n",
       " 'feature_6',\n",
       " 'feature_7',\n",
       " 'feature_8',\n",
       " 'feature_9',\n",
       " 'duration_listed']"
      ]
     },
     "execution_count": 36,
     "metadata": {},
     "output_type": "execute_result"
    }
   ],
   "source": [
    "list(df)"
   ]
  },
  {
   "cell_type": "code",
   "execution_count": 54,
   "metadata": {
    "ExecuteTime": {
     "end_time": "2021-07-04T04:20:13.848591Z",
     "start_time": "2021-07-04T04:20:04.081514Z"
    }
   },
   "outputs": [
    {
     "data": {
      "image/png": "[encoded data removed]",
      "text/plain": [
       "<Figure size 1080x288 with 1 Axes>"
      ]
     },
     "metadata": {
      "needs_background": "light"
     },
     "output_type": "display_data"
    }
   ],
   "source": [
    "plt.figure(figsize=(15,4))\n",
    "plt.title('Precio de los autos')\n",
    "sns.histplot(data = df, x = df['price_usd'], hue=df['manufacturer_name'], legend=False)\n",
    "plt.show()"
   ]
  },
  {
   "cell_type": "code",
   "execution_count": 72,
   "metadata": {
    "ExecuteTime": {
     "end_time": "2021-07-04T04:25:03.260906Z",
     "start_time": "2021-07-04T04:25:03.065893Z"
    }
   },
   "outputs": [
    {
     "data": {
      "text/plain": [
       "<AxesSubplot:>"
      ]
     },
     "execution_count": 72,
     "metadata": {},
     "output_type": "execute_result"
    },
    {
     "data": {
      "image/png": "[encoded data removed]",
      "text/plain": [
       "<Figure size 432x288 with 1 Axes>"
      ]
     },
     "metadata": {
      "needs_background": "light"
     },
     "output_type": "display_data"
    }
   ],
   "source": [
    "p = 10000\n",
    "df['price_usd'].apply(lambda x: np.tanh(x/p)).hist()"
   ]
  },
  {
   "cell_type": "code",
   "execution_count": 56,
   "metadata": {
    "ExecuteTime": {
     "end_time": "2021-07-04T04:22:22.070827Z",
     "start_time": "2021-07-04T04:22:22.048691Z"
    }
   },
   "outputs": [
    {
     "data": {
      "text/plain": [
       "0        10900.00\n",
       "1         5000.00\n",
       "2         2800.00\n",
       "3         9999.00\n",
       "4         2134.11\n",
       "           ...   \n",
       "38526     2750.00\n",
       "38527     4800.00\n",
       "38528     4300.00\n",
       "38529     4000.00\n",
       "38530     3200.00\n",
       "Name: price_usd, Length: 38531, dtype: float64"
      ]
     },
     "execution_count": 56,
     "metadata": {},
     "output_type": "execute_result"
    }
   ],
   "source": [
    "df['price_usd']"
   ]
  },
  {
   "cell_type": "code",
   "execution_count": null,
   "metadata": {},
   "outputs": [],
   "source": []
  },
  {
   "cell_type": "code",
   "execution_count": null,
   "metadata": {},
   "outputs": [],
   "source": []
  },
  {
   "cell_type": "code",
   "execution_count": null,
   "metadata": {},
   "outputs": [],
   "source": []
  },
  {
   "cell_type": "code",
   "execution_count": null,
   "metadata": {},
   "outputs": [],
   "source": []
  },
  {
   "cell_type": "code",
   "execution_count": null,
   "metadata": {},
   "outputs": [],
   "source": []
  },
  {
   "cell_type": "code",
   "execution_count": null,
   "metadata": {},
   "outputs": [],
   "source": []
  },
  {
   "cell_type": "code",
   "execution_count": null,
   "metadata": {},
   "outputs": [],
   "source": []
  }
 ],
 "metadata": {
  "kernelspec": {
   "display_name": "Python 3",
   "language": "python",
   "name": "python3"
  },
  "language_info": {
   "codemirror_mode": {
    "name": "ipython",
    "version": 3
   },
   "file_extension": ".py",
   "mimetype": "text/x-python",
   "name": "python",
   "nbconvert_exporter": "python",
   "pygments_lexer": "ipython3",
   "version": "3.8.5"
  },
  "toc": {
   "base_numbering": 1,
   "nav_menu": {},
   "number_sections": true,
   "sideBar": true,
   "skip_h1_title": false,
   "title_cell": "Table of Contents",
   "title_sidebar": "Contents",
   "toc_cell": false,
   "toc_position": {},
   "toc_section_display": true,
   "toc_window_display": false
  },
  "varInspector": {
   "cols": {
    "lenName": 16,
    "lenType": 16,
    "lenVar": 40
   },
   "kernels_config": {
    "python": {
     "delete_cmd_postfix": "",
     "delete_cmd_prefix": "del ",
     "library": "var_list.py",
     "varRefreshCmd": "print(var_dic_list())"
    },
    "r": {
     "delete_cmd_postfix": ") ",
     "delete_cmd_prefix": "rm(",
     "library": "var_list.r",
     "varRefreshCmd": "cat(var_dic_list()) "
    }
   },
   "types_to_exclude": [
    "module",
    "function",
    "builtin_function_or_method",
    "instance",
    "_Feature"
   ],
   "window_display": false
  }
 },
 "nbformat": 4,
 "nbformat_minor": 4
}
