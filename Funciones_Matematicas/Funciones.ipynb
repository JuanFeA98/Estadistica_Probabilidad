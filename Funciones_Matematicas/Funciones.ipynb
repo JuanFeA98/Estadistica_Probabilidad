{
 "cells": [
  {
   "cell_type": "markdown",
   "id": "1cd4a4de-3dde-4929-becf-25509fbe9bec",
   "metadata": {},
   "source": [
    "## Librerias"
   ]
  },
  {
   "cell_type": "code",
   "execution_count": 1,
   "id": "2f5edae7-737b-4867-9a7a-68a7f906b1ce",
   "metadata": {},
   "outputs": [],
   "source": [
    "import pandas as pd\n",
    "import numpy as np\n",
    "import matplotlib.pyplot as plt\n",
    "import seaborn as sns"
   ]
  },
  {
   "cell_type": "code",
   "execution_count": 2,
   "id": "6bec6151-183e-42f1-bdaa-f0ed3bd5dc34",
   "metadata": {},
   "outputs": [],
   "source": [
    "pd.options.display.max_columns = False"
   ]
  },
  {
   "cell_type": "markdown",
   "id": "8cc8f1e2-3075-4f5a-82aa-ed4e44466f7f",
   "metadata": {},
   "source": [
    "## 1. Funciones Algebraicas"
   ]
  },
  {
   "cell_type": "markdown",
   "id": "2f16f2e2-31e0-4ff1-905f-897101c05e84",
   "metadata": {},
   "source": [
    "### 1.1 Función Lineal"
   ]
  },
  {
   "cell_type": "code",
   "execution_count": 85,
   "id": "f7353c49-2006-4330-a5e4-39d7bc530d09",
   "metadata": {},
   "outputs": [],
   "source": [
    "N = 100\n",
    "pendiente = 2\n",
    "corte = 4\n",
    "\n",
    "X = np.linspace(-10, 10, num=N)"
   ]
  },
  {
   "cell_type": "code",
   "execution_count": 44,
   "id": "1f72a7b4-c250-4f7a-84ed-9758f164a6d7",
   "metadata": {},
   "outputs": [],
   "source": [
    "def funcion_lineal(x):\n",
    "    return ((pendiente*(x))+corte)"
   ]
  },
  {
   "cell_type": "code",
   "execution_count": 87,
   "id": "5a105f5f-fff4-453a-bd22-2533dcd74630",
   "metadata": {},
   "outputs": [],
   "source": [
    "y = [funcion_lineal(i) for i in X]"
   ]
  },
  {
   "cell_type": "code",
   "execution_count": 88,
   "id": "f3411f0c-0827-453b-9906-9b9b342df1eb",
   "metadata": {},
   "outputs": [
    {
     "data": {
      "image/png": "[encoded data removed]",
      "text/plain": [
       "<Figure size 936x288 with 1 Axes>"
      ]
     },
     "metadata": {
      "needs_background": "light"
     },
     "output_type": "display_data"
    }
   ],
   "source": [
    "fig, ax = plt.subplots(figsize=(13, 4))\n",
    "ax.plot(X,y)\n",
    "plt.show()"
   ]
  },
  {
   "cell_type": "markdown",
   "id": "d3a7a2ab-6b2a-4a0e-a595-853460f84f6b",
   "metadata": {},
   "source": [
    "### 1.2 Funciones Polinomicas"
   ]
  },
  {
   "cell_type": "code",
   "execution_count": null,
   "id": "d0ab753b-88b3-4956-a68f-dd753bbf28f0",
   "metadata": {},
   "outputs": [],
   "source": []
  },
  {
   "cell_type": "code",
   "execution_count": null,
   "id": "2e5e7690-4746-4540-8921-e3211da7c8dd",
   "metadata": {},
   "outputs": [],
   "source": []
  }
 ],
 "metadata": {
  "kernelspec": {
   "display_name": "Python 3 (ipykernel)",
   "language": "python",
   "name": "python3"
  },
  "language_info": {
   "codemirror_mode": {
    "name": "ipython",
    "version": 3
   },
   "file_extension": ".py",
   "mimetype": "text/x-python",
   "name": "python",
   "nbconvert_exporter": "python",
   "pygments_lexer": "ipython3",
   "version": "3.8.12"
  }
 },
 "nbformat": 4,
 "nbformat_minor": 5
}
