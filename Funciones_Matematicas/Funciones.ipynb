{
 "cells": [
  {
   "cell_type": "markdown",
   "id": "1cd4a4de-3dde-4929-becf-25509fbe9bec",
   "metadata": {},
   "source": [
    "## Librerias"
   ]
  },
  {
   "cell_type": "code",
   "execution_count": 1,
   "id": "2f5edae7-737b-4867-9a7a-68a7f906b1ce",
   "metadata": {},
   "outputs": [],
   "source": [
    "import pandas as pd\n",
    "import numpy as np\n",
    "import matplotlib.pyplot as plt\n",
    "import seaborn as sns"
   ]
  },
  {
   "cell_type": "code",
   "execution_count": 2,
   "id": "6bec6151-183e-42f1-bdaa-f0ed3bd5dc34",
   "metadata": {},
   "outputs": [],
   "source": [
    "pd.options.display.max_columns = False"
   ]
  },
  {
   "cell_type": "markdown",
   "id": "8cc8f1e2-3075-4f5a-82aa-ed4e44466f7f",
   "metadata": {},
   "source": [
    "## 1. Funciones Algebraicas"
   ]
  },
  {
   "cell_type": "markdown",
   "id": "2f16f2e2-31e0-4ff1-905f-897101c05e84",
   "metadata": {},
   "source": [
    "### 1.1 Función Lineal"
   ]
  },
  {
   "cell_type": "code",
   "execution_count": 3,
   "id": "f7353c49-2006-4330-a5e4-39d7bc530d09",
   "metadata": {},
   "outputs": [],
   "source": [
    "N = 100\n",
    "pendiente = 2\n",
    "corte = 4\n",
    "\n",
    "X = np.linspace(-10, 10, num=N)"
   ]
  },
  {
   "cell_type": "code",
   "execution_count": 4,
   "id": "1f72a7b4-c250-4f7a-84ed-9758f164a6d7",
   "metadata": {},
   "outputs": [],
   "source": [
    "def funcion_lineal(x):\n",
    "    return ((pendiente*(x))+corte)"
   ]
  },
  {
   "cell_type": "code",
   "execution_count": 5,
   "id": "5a105f5f-fff4-453a-bd22-2533dcd74630",
   "metadata": {},
   "outputs": [],
   "source": [
    "y = [funcion_lineal(i) for i in X]"
   ]
  },
  {
   "cell_type": "code",
   "execution_count": 6,
   "id": "f3411f0c-0827-453b-9906-9b9b342df1eb",
   "metadata": {},
   "outputs": [
    {
     "data": {
      "image/png": "[encoded data removed]",
      "text/plain": [
       "<Figure size 936x288 with 1 Axes>"
      ]
     },
     "metadata": {
      "needs_background": "light"
     },
     "output_type": "display_data"
    }
   ],
   "source": [
    "fig, ax = plt.subplots(figsize=(13, 4))\n",
    "ax.plot(X,y)\n",
    "plt.show()"
   ]
  },
  {
   "cell_type": "markdown",
   "id": "d3a7a2ab-6b2a-4a0e-a595-853460f84f6b",
   "metadata": {},
   "source": [
    "### 1.2 Funciones Polinomicas"
   ]
  },
  {
   "cell_type": "code",
   "execution_count": 74,
   "id": "249dda82-c86f-4b4b-8966-397bf5977ca5",
   "metadata": {},
   "outputs": [],
   "source": [
    "def funcion_polinomica(x):\n",
    "    return ((2*(x**7)) - (x**4) + (3*(x**2)) + 4)"
   ]
  },
  {
   "cell_type": "code",
   "execution_count": 75,
   "id": "31d82a48-7a85-4f85-8058-bb35dd90ab89",
   "metadata": {},
   "outputs": [],
   "source": [
    "values = [funcion_polinomica(i) for i in X]"
   ]
  },
  {
   "cell_type": "code",
   "execution_count": 76,
   "id": "0a526831-8481-4ae8-adfe-be71f9fd6e14",
   "metadata": {},
   "outputs": [
    {
     "data": {
      "image/png": "[encoded data removed]",
      "text/plain": [
       "<Figure size 1080x360 with 1 Axes>"
      ]
     },
     "metadata": {
      "needs_background": "light"
     },
     "output_type": "display_data"
    }
   ],
   "source": [
    "fig, ax = plt.subplots(figsize=(15, 5))\n",
    "plt.plot(values)\n",
    "plt.grid()\n",
    "plt.show()"
   ]
  },
  {
   "cell_type": "markdown",
   "id": "4624d4c2-b0bb-4563-8e64-fe5ca9e8dd95",
   "metadata": {},
   "source": [
    "## 2. Funciones Trascendentes"
   ]
  },
  {
   "cell_type": "markdown",
   "id": "fecb8a6d-d442-491a-8839-6f5a056426cb",
   "metadata": {},
   "source": [
    "### 2.1 Funciones Trigonométricas"
   ]
  },
  {
   "cell_type": "code",
   "execution_count": 82,
   "id": "d2d62d92-769c-4263-8114-23592d5fc2de",
   "metadata": {},
   "outputs": [],
   "source": [
    "def funcion_seno(x):\n",
    "    return np.sin(x)\n",
    "\n",
    "def funcion_coseno(x):\n",
    "    return np.cos(x)\n",
    "\n",
    "def funcion_tangente(x):\n",
    "    return np.tan(x)"
   ]
  },
  {
   "cell_type": "code",
   "execution_count": 83,
   "id": "b0c64f53-969e-45fb-88d0-52b5a3e602d4",
   "metadata": {},
   "outputs": [],
   "source": [
    "values_sen = [funcion_seno(i) for i in X]\n",
    "values_cos = [funcion_coseno(i) for i in X]\n",
    "values_tan = [funcion_tangente(i) for i in X]"
   ]
  },
  {
   "cell_type": "code",
   "execution_count": 87,
   "id": "3d4ca589-9e24-4ea3-a7ef-9634ac95a86e",
   "metadata": {},
   "outputs": [
    {
     "ename": "TypeError",
     "evalue": "subplots() got an unexpected keyword argument 'figsize'",
     "output_type": "error",
     "traceback": [
      "\u001b[1;31m---------------------------------------------------------------------------\u001b[0m",
      "\u001b[1;31mTypeError\u001b[0m                                 Traceback (most recent call last)",
      "\u001b[1;32m~\\AppData\\Local\\Temp/ipykernel_5992/3096814451.py\u001b[0m in \u001b[0;36m<module>\u001b[1;34m\u001b[0m\n\u001b[1;32m----> 1\u001b[1;33m \u001b[0mfig\u001b[0m\u001b[1;33m,\u001b[0m \u001b[0max\u001b[0m \u001b[1;33m=\u001b[0m \u001b[0mplt\u001b[0m\u001b[1;33m.\u001b[0m\u001b[0msubplots\u001b[0m\u001b[1;33m(\u001b[0m\u001b[0mfigsize\u001b[0m\u001b[1;33m=\u001b[0m\u001b[1;33m(\u001b[0m\u001b[1;36m15\u001b[0m\u001b[1;33m,\u001b[0m \u001b[1;36m4\u001b[0m\u001b[1;33m)\u001b[0m\u001b[1;33m)\u001b[0m\u001b[1;33m\u001b[0m\u001b[1;33m\u001b[0m\u001b[0m\n\u001b[0m\u001b[0;32m      2\u001b[0m \u001b[0mplt\u001b[0m\u001b[1;33m.\u001b[0m\u001b[0mplot\u001b[0m\u001b[1;33m(\u001b[0m\u001b[0mvalues_sen\u001b[0m\u001b[1;33m)\u001b[0m\u001b[1;33m\u001b[0m\u001b[1;33m\u001b[0m\u001b[0m\n\u001b[0;32m      3\u001b[0m \u001b[0mplt\u001b[0m\u001b[1;33m.\u001b[0m\u001b[0mplot\u001b[0m\u001b[1;33m(\u001b[0m\u001b[0mvalues_cos\u001b[0m\u001b[1;33m)\u001b[0m\u001b[1;33m\u001b[0m\u001b[1;33m\u001b[0m\u001b[0m\n\u001b[0;32m      4\u001b[0m \u001b[0mplt\u001b[0m\u001b[1;33m.\u001b[0m\u001b[0mplot\u001b[0m\u001b[1;33m(\u001b[0m\u001b[0mvalues_tan\u001b[0m\u001b[1;33m)\u001b[0m\u001b[1;33m\u001b[0m\u001b[1;33m\u001b[0m\u001b[0m\n",
      "\u001b[1;32m~\\anaconda3\\envs\\StarterPack\\lib\\site-packages\\matplotlib\\_api\\deprecation.py\u001b[0m in \u001b[0;36mwrapper\u001b[1;34m(*args, **kwargs)\u001b[0m\n\u001b[0;32m    469\u001b[0m                 \u001b[1;34m\"parameter will become keyword-only %(removal)s.\"\u001b[0m\u001b[1;33m,\u001b[0m\u001b[1;33m\u001b[0m\u001b[1;33m\u001b[0m\u001b[0m\n\u001b[0;32m    470\u001b[0m                 name=name, obj_type=f\"parameter of {func.__name__}()\")\n\u001b[1;32m--> 471\u001b[1;33m         \u001b[1;32mreturn\u001b[0m \u001b[0mfunc\u001b[0m\u001b[1;33m(\u001b[0m\u001b[1;33m*\u001b[0m\u001b[0margs\u001b[0m\u001b[1;33m,\u001b[0m \u001b[1;33m**\u001b[0m\u001b[0mkwargs\u001b[0m\u001b[1;33m)\u001b[0m\u001b[1;33m\u001b[0m\u001b[1;33m\u001b[0m\u001b[0m\n\u001b[0m\u001b[0;32m    472\u001b[0m \u001b[1;33m\u001b[0m\u001b[0m\n\u001b[0;32m    473\u001b[0m     \u001b[1;32mreturn\u001b[0m \u001b[0mwrapper\u001b[0m\u001b[1;33m\u001b[0m\u001b[1;33m\u001b[0m\u001b[0m\n",
      "\u001b[1;31mTypeError\u001b[0m: subplots() got an unexpected keyword argument 'figsize'"
     ]
    }
   ],
   "source": [
    "fig, ax = plt.subplots(figsize=(15, 4))\n",
    "plt.plot(values_sen)\n",
    "plt.plot(values_cos)\n",
    "plt.plot(values_tan)"
   ]
  }
 ],
 "metadata": {
  "kernelspec": {
   "display_name": "Python 3 (ipykernel)",
   "language": "python",
   "name": "python3"
  },
  "language_info": {
   "codemirror_mode": {
    "name": "ipython",
    "version": 3
   },
   "file_extension": ".py",
   "mimetype": "text/x-python",
   "name": "python",
   "nbconvert_exporter": "python",
   "pygments_lexer": "ipython3",
   "version": "3.8.12"
  }
 },
 "nbformat": 4,
 "nbformat_minor": 5
}
